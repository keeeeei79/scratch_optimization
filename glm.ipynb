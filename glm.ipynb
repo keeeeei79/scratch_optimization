{
 "cells": [
  {
   "cell_type": "code",
   "execution_count": 1,
   "id": "6f2aae90",
   "metadata": {},
   "outputs": [],
   "source": [
    "import pandas as pd\n",
    "import numpy as np\n",
    "import matplotlib.pyplot as plt\n",
    "%matplotlib inline"
   ]
  },
  {
   "cell_type": "code",
   "execution_count": 2,
   "id": "1d10655a",
   "metadata": {},
   "outputs": [],
   "source": [
    "import statsmodels.api as sm"
   ]
  },
  {
   "cell_type": "code",
   "execution_count": 3,
   "id": "f7eee3fb",
   "metadata": {},
   "outputs": [],
   "source": [
    "np.random.seed(0)\n",
    "a = np.random.rand(100)\n",
    "b = np.random.rand(100)\n",
    "c = np.random.rand(100)"
   ]
  },
  {
   "cell_type": "code",
   "execution_count": 4,
   "id": "57f4bd7c",
   "metadata": {},
   "outputs": [],
   "source": [
    "y = np.random.poisson(np.exp(1.5*a + -1*b + 0.5*c))"
   ]
  },
  {
   "cell_type": "code",
   "execution_count": 5,
   "id": "afac17e5",
   "metadata": {},
   "outputs": [],
   "source": [
    "df = pd.DataFrame(zip(y, a, b, c), columns=['y', 'a', 'b', 'c'])"
   ]
  },
  {
   "cell_type": "code",
   "execution_count": 6,
   "id": "0b67d4a3",
   "metadata": {},
   "outputs": [
    {
     "data": {
      "text/html": [
       "<div>\n",
       "<style scoped>\n",
       "    .dataframe tbody tr th:only-of-type {\n",
       "        vertical-align: middle;\n",
       "    }\n",
       "\n",
       "    .dataframe tbody tr th {\n",
       "        vertical-align: top;\n",
       "    }\n",
       "\n",
       "    .dataframe thead th {\n",
       "        text-align: right;\n",
       "    }\n",
       "</style>\n",
       "<table border=\"1\" class=\"dataframe\">\n",
       "  <thead>\n",
       "    <tr style=\"text-align: right;\">\n",
       "      <th></th>\n",
       "      <th>y</th>\n",
       "      <th>a</th>\n",
       "      <th>b</th>\n",
       "      <th>c</th>\n",
       "    </tr>\n",
       "  </thead>\n",
       "  <tbody>\n",
       "    <tr>\n",
       "      <th>0</th>\n",
       "      <td>2</td>\n",
       "      <td>0.548814</td>\n",
       "      <td>0.677817</td>\n",
       "      <td>0.311796</td>\n",
       "    </tr>\n",
       "    <tr>\n",
       "      <th>1</th>\n",
       "      <td>1</td>\n",
       "      <td>0.715189</td>\n",
       "      <td>0.270008</td>\n",
       "      <td>0.696343</td>\n",
       "    </tr>\n",
       "    <tr>\n",
       "      <th>2</th>\n",
       "      <td>0</td>\n",
       "      <td>0.602763</td>\n",
       "      <td>0.735194</td>\n",
       "      <td>0.377752</td>\n",
       "    </tr>\n",
       "    <tr>\n",
       "      <th>3</th>\n",
       "      <td>0</td>\n",
       "      <td>0.544883</td>\n",
       "      <td>0.962189</td>\n",
       "      <td>0.179604</td>\n",
       "    </tr>\n",
       "    <tr>\n",
       "      <th>4</th>\n",
       "      <td>0</td>\n",
       "      <td>0.423655</td>\n",
       "      <td>0.248753</td>\n",
       "      <td>0.024679</td>\n",
       "    </tr>\n",
       "  </tbody>\n",
       "</table>\n",
       "</div>"
      ],
      "text/plain": [
       "   y         a         b         c\n",
       "0  2  0.548814  0.677817  0.311796\n",
       "1  1  0.715189  0.270008  0.696343\n",
       "2  0  0.602763  0.735194  0.377752\n",
       "3  0  0.544883  0.962189  0.179604\n",
       "4  0  0.423655  0.248753  0.024679"
      ]
     },
     "execution_count": 6,
     "metadata": {},
     "output_type": "execute_result"
    }
   ],
   "source": [
    "df.head()"
   ]
  },
  {
   "cell_type": "code",
   "execution_count": 7,
   "id": "eb361b08",
   "metadata": {},
   "outputs": [
    {
     "data": {
      "text/plain": [
       "<AxesSubplot:ylabel='Frequency'>"
      ]
     },
     "execution_count": 7,
     "metadata": {},
     "output_type": "execute_result"
    },
    {
     "data": {
      "image/png": "[encoded data removed]",
      "text/plain": [
       "<Figure size 432x288 with 1 Axes>"
      ]
     },
     "metadata": {
      "needs_background": "light"
     },
     "output_type": "display_data"
    },
    {
     "data": {
      "image/png": "[encoded data removed]",
      "text/plain": [
       "<Figure size 432x288 with 1 Axes>"
      ]
     },
     "metadata": {
      "needs_background": "light"
     },
     "output_type": "display_data"
    },
    {
     "data": {
      "image/png": "[encoded data removed]",
      "text/plain": [
       "<Figure size 432x288 with 1 Axes>"
      ]
     },
     "metadata": {
      "needs_background": "light"
     },
     "output_type": "display_data"
    },
    {
     "data": {
      "image/png": "[encoded data removed]",
      "text/plain": [
       "<Figure size 432x288 with 1 Axes>"
      ]
     },
     "metadata": {
      "needs_background": "light"
     },
     "output_type": "display_data"
    }
   ],
   "source": [
    "df.plot(kind='scatter', x='a', y='y')\n",
    "df.plot(kind='scatter', x='b', y='y')\n",
    "df.plot(kind='scatter', x='c', y='y')\n",
    "df.plot(kind='hist', y='y')"
   ]
  },
  {
   "cell_type": "markdown",
   "id": "768ce371",
   "metadata": {},
   "source": [
    "# パッケージ"
   ]
  },
  {
   "cell_type": "code",
   "execution_count": 8,
   "id": "57922f43",
   "metadata": {},
   "outputs": [],
   "source": [
    "model = sm.GLM(df['y'], df[[ 'a', 'b', 'c']], family=sm.families.Poisson())"
   ]
  },
  {
   "cell_type": "code",
   "execution_count": 9,
   "id": "a210d0db",
   "metadata": {},
   "outputs": [
    {
     "name": "stdout",
     "output_type": "stream",
     "text": [
      "                 Generalized Linear Model Regression Results                  \n",
      "==============================================================================\n",
      "Dep. Variable:                      y   No. Observations:                  100\n",
      "Model:                            GLM   Df Residuals:                       97\n",
      "Model Family:                 Poisson   Df Model:                            2\n",
      "Link Function:                    Log   Scale:                          1.0000\n",
      "Method:                          IRLS   Log-Likelihood:                -154.45\n",
      "Date:                Sat, 25 Jun 2022   Deviance:                       121.10\n",
      "Time:                        15:13:18   Pearson chi2:                     125.\n",
      "No. Iterations:                     5   Pseudo R-squ. (CS):             0.5323\n",
      "Covariance Type:            nonrobust                                         \n",
      "==============================================================================\n",
      "                 coef    std err          z      P>|z|      [0.025      0.975]\n",
      "------------------------------------------------------------------------------\n",
      "a              1.5747      0.204      7.704      0.000       1.174       1.975\n",
      "b             -1.5324      0.249     -6.166      0.000      -2.020      -1.045\n",
      "c              0.7309      0.200      3.646      0.000       0.338       1.124\n",
      "==============================================================================\n"
     ]
    }
   ],
   "source": [
    "results = model.fit()\n",
    "print(results.summary())"
   ]
  },
  {
   "cell_type": "markdown",
   "id": "b3bfbe7b",
   "metadata": {},
   "source": [
    "# 損失関数を負の対数尤度として解く\n",
    "- SGD\n",
    "- 最急降下法\n",
    "- ニュートン法"
   ]
  },
  {
   "cell_type": "markdown",
   "id": "65ff92b0",
   "metadata": {},
   "source": [
    "目的変数がポアソン分布に従ってると仮定する。\n",
    "$$\n",
    "    y_i \\sim poisson(\\lambda_i), \\lambda_i = \\exp{(\\beta_1x_{1i} + \\beta_2x_{2i})}\n",
    "$$\n",
    "尤度関数は以下。\n",
    "$$\n",
    "    Likelihood = \\Pi \\frac{\\lambda_i^{y_i}\\exp(-\\lambda_i)}{y_i!}\n",
    "$$\n",
    "負の対数尤度を損失関数とする。\n",
    "$$\n",
    "    L = -\\sum_i^n y\\log{\\lambda_i} - \\lambda_i - \\log{y_i!}\n",
    "$$"
   ]
  },
  {
   "cell_type": "markdown",
   "id": "9b7c4756",
   "metadata": {},
   "source": [
    "損失関数の1階微分を計算する。簡単のため1サンプルで1階微分を計算する。\n",
    "\n",
    "$$\n",
    "    \\frac{dL}{d\\lambda} = 1 - \\frac{y}{\\lambda}, \\frac{d\\lambda}{d\\beta_1} = \\exp{(\\beta_1x_1+\\beta_2x_2)}x_1より \\\\\n",
    "    \\frac{dL}{d\\beta_1} = \\frac{dL}{d\\lambda}\\frac{d\\lambda}{d\\beta_1} = \\lambda x_1 - yx_1 \\quad （\\lambda = \\exp{(\\beta_1x_1 + \\beta_2x_2)}を利用した)\n",
    "$$\n",
    "\n",
    "あとは同様にパラメータを更新する。"
   ]
  },
  {
   "cell_type": "markdown",
   "id": "9068e89a",
   "metadata": {},
   "source": [
    "ニュートン法のために2階微分も求めておく。\n",
    "$$\n",
    "    \\frac{dL}{d\\beta_1\\beta_1} =  \\lambda x_1^2, \\frac{dL}{d\\beta_1\\beta_2} = \\lambda x_1x_2\n",
    "$$\n",
    "これも同様にパラメータを更新する。"
   ]
  },
  {
   "cell_type": "code",
   "execution_count": 10,
   "id": "41769ae4",
   "metadata": {},
   "outputs": [],
   "source": [
    "def negative_loglikelihood(Y, lambda_hat):\n",
    "    return -np.sum(Y*np.log(lambda_hat)-lambda_hat)"
   ]
  },
  {
   "cell_type": "code",
   "execution_count": 11,
   "id": "f1c0eac6",
   "metadata": {},
   "outputs": [],
   "source": [
    "X = df[[ 'a', 'b', 'c']].values\n",
    "Y = df['y'].values"
   ]
  },
  {
   "cell_type": "code",
   "execution_count": 12,
   "id": "e576776d",
   "metadata": {},
   "outputs": [],
   "source": [
    "alpha = 0.01"
   ]
  },
  {
   "cell_type": "markdown",
   "id": "33d9ae3a",
   "metadata": {},
   "source": [
    "### SGD"
   ]
  },
  {
   "cell_type": "code",
   "execution_count": 13,
   "id": "c857599b",
   "metadata": {},
   "outputs": [],
   "source": [
    "def negative_loglikelihood_grad_sgd(y, x, beta):\n",
    "    lambda_hat = np.exp(np.sum(x*beta))\n",
    "    return lambda_hat*x - y*x"
   ]
  },
  {
   "cell_type": "code",
   "execution_count": 14,
   "id": "ce0fc228",
   "metadata": {},
   "outputs": [
    {
     "name": "stdout",
     "output_type": "stream",
     "text": [
      "初期パラメータ:  [0.5488135  0.71518937 0.60276338]\n"
     ]
    }
   ],
   "source": [
    "# 初期化\n",
    "np.random.seed(0)\n",
    "init_beta = np.random.rand(3)\n",
    "print(\"初期パラメータ: \", init_beta)"
   ]
  },
  {
   "cell_type": "code",
   "execution_count": 15,
   "id": "9c735647",
   "metadata": {},
   "outputs": [
    {
     "name": "stdout",
     "output_type": "stream",
     "text": [
      "パラメータ:  [ 1.58752474 -1.47774531  0.73701154]\n"
     ]
    }
   ],
   "source": [
    "beta = init_beta\n",
    "# パラメータ更新\n",
    "beta_result = []\n",
    "loss_result = []\n",
    "for i in range(100):\n",
    "    for x, y in zip(X, Y):\n",
    "        beta = beta - alpha*negative_loglikelihood_grad_sgd(y, x, beta)\n",
    "        lambda_hat = np.exp(np.sum(X*beta, axis=1))\n",
    "        # save\n",
    "        beta_result.append(list(beta))\n",
    "        loss_result.append([i+1, negative_loglikelihood(Y, lambda_hat)])\n",
    "print(\"パラメータ: \", beta)\n",
    "beta_result = np.array(beta_result)\n",
    "loss_result = np.array(loss_result)"
   ]
  },
  {
   "cell_type": "code",
   "execution_count": 16,
   "id": "adb65bf0",
   "metadata": {},
   "outputs": [
    {
     "data": {
      "text/plain": [
       "[<matplotlib.lines.Line2D at 0x15b46aa00>]"
      ]
     },
     "execution_count": 16,
     "metadata": {},
     "output_type": "execute_result"
    },
    {
     "data": {
      "image/png": "[encoded data removed]",
      "text/plain": [
       "<Figure size 432x288 with 1 Axes>"
      ]
     },
     "metadata": {
      "needs_background": "light"
     },
     "output_type": "display_data"
    }
   ],
   "source": [
    "# loss関数の推移\n",
    "plt.plot(loss_result[:, 0], loss_result[:, 1])"
   ]
  },
  {
   "cell_type": "code",
   "execution_count": 17,
   "id": "0eae1f6b",
   "metadata": {},
   "outputs": [
    {
     "data": {
      "text/plain": [
       "[<matplotlib.lines.Line2D at 0x15b521280>]"
      ]
     },
     "execution_count": 17,
     "metadata": {},
     "output_type": "execute_result"
    },
    {
     "data": {
      "image/png": "[encoded data removed]",
      "text/plain": [
       "<Figure size 432x288 with 1 Axes>"
      ]
     },
     "metadata": {
      "needs_background": "light"
     },
     "output_type": "display_data"
    }
   ],
   "source": [
    "# パラメータの推移\n",
    "plt.plot(loss_result[:, 0], beta_result[:, 0])\n",
    "plt.plot(loss_result[:, 0], beta_result[:, 1])\n",
    "plt.plot(loss_result[:, 0], beta_result[:, 2])"
   ]
  },
  {
   "cell_type": "markdown",
   "id": "56dc4e3a",
   "metadata": {},
   "source": [
    "### 最急降下法"
   ]
  },
  {
   "cell_type": "code",
   "execution_count": 18,
   "id": "87a7b92d",
   "metadata": {},
   "outputs": [],
   "source": [
    "def negative_loglikelihood_grad(Y, X, beta):\n",
    "    lambda_hat = np.exp(np.sum(X*beta, axis=1))\n",
    "    return np.sum(lambda_hat.reshape(-1, 1) * X - Y.reshape(-1, 1)*X, axis=0)"
   ]
  },
  {
   "cell_type": "code",
   "execution_count": 19,
   "id": "e678169c",
   "metadata": {},
   "outputs": [
    {
     "name": "stdout",
     "output_type": "stream",
     "text": [
      "初期パラメータ:  [0.5488135  0.71518937 0.60276338]\n"
     ]
    }
   ],
   "source": [
    "# 初期化\n",
    "np.random.seed(0)\n",
    "init_beta = np.random.rand(3)\n",
    "print(\"初期パラメータ: \", init_beta)"
   ]
  },
  {
   "cell_type": "code",
   "execution_count": 20,
   "id": "acffd4d1",
   "metadata": {},
   "outputs": [
    {
     "name": "stdout",
     "output_type": "stream",
     "text": [
      "パラメータ:  [ 1.57389517 -1.53105638  0.73082097]\n"
     ]
    }
   ],
   "source": [
    "beta = init_beta\n",
    "# パラメータ更新\n",
    "beta_result = []\n",
    "loss_result = []\n",
    "for i in range(50):\n",
    "    beta = beta - alpha*negative_loglikelihood_grad(Y, X, beta)\n",
    "    lambda_hat = np.exp(np.sum(X*beta, axis=1))\n",
    "    # save\n",
    "    beta_result.append(list(beta))\n",
    "    loss_result.append([i+1, negative_loglikelihood(Y, lambda_hat)])\n",
    "print(\"パラメータ: \", beta)\n",
    "beta_result = np.array(beta_result)\n",
    "loss_result = np.array(loss_result)"
   ]
  },
  {
   "cell_type": "code",
   "execution_count": 21,
   "id": "57efe506",
   "metadata": {},
   "outputs": [
    {
     "data": {
      "text/plain": [
       "[<matplotlib.lines.Line2D at 0x15b5c45e0>]"
      ]
     },
     "execution_count": 21,
     "metadata": {},
     "output_type": "execute_result"
    },
    {
     "data": {
      "image/png": "[encoded data removed]",
      "text/plain": [
       "<Figure size 432x288 with 1 Axes>"
      ]
     },
     "metadata": {
      "needs_background": "light"
     },
     "output_type": "display_data"
    }
   ],
   "source": [
    "# loss関数の推移\n",
    "plt.plot(loss_result[:, 0], loss_result[:, 1])"
   ]
  },
  {
   "cell_type": "code",
   "execution_count": 22,
   "id": "3c09ad82",
   "metadata": {},
   "outputs": [
    {
     "data": {
      "text/plain": [
       "[<matplotlib.lines.Line2D at 0x15b7d89d0>]"
      ]
     },
     "execution_count": 22,
     "metadata": {},
     "output_type": "execute_result"
    },
    {
     "data": {
      "image/png": "[encoded data removed]",
      "text/plain": [
       "<Figure size 432x288 with 1 Axes>"
      ]
     },
     "metadata": {
      "needs_background": "light"
     },
     "output_type": "display_data"
    }
   ],
   "source": [
    "# パラメータの推移\n",
    "plt.plot(loss_result[:, 0], beta_result[:, 0])\n",
    "plt.plot(loss_result[:, 0], beta_result[:, 1])\n",
    "plt.plot(loss_result[:, 0], beta_result[:, 2])"
   ]
  },
  {
   "cell_type": "markdown",
   "id": "d03b9737",
   "metadata": {},
   "source": [
    "### ニュートン法"
   ]
  },
  {
   "cell_type": "code",
   "execution_count": 23,
   "id": "a4fca1b4",
   "metadata": {},
   "outputs": [],
   "source": [
    "# 1サンプルに対してhessを計算する\n",
    "def negative_loglikelihood_hess_sgd(x, beta):\n",
    "    lambda_hat = np.exp(np.sum(x*beta))\n",
    "    return  lambda_hat * x.reshape(-1, 1).dot(x.reshape(1, -1))"
   ]
  },
  {
   "cell_type": "code",
   "execution_count": 27,
   "id": "9c42c242",
   "metadata": {},
   "outputs": [],
   "source": [
    "def negative_loglikelihood_hess(X, beta):\n",
    "    hess = np.zeros((X.shape[1], X.shape[1]))\n",
    "    for x in X:\n",
    "        hess += negative_loglikelihood_hess_sgd(x, beta)\n",
    "    return hess"
   ]
  },
  {
   "cell_type": "code",
   "execution_count": 28,
   "id": "e9fe16dd",
   "metadata": {},
   "outputs": [
    {
     "name": "stdout",
     "output_type": "stream",
     "text": [
      "初期パラメータ:  [0.5488135  0.71518937 0.60276338]\n"
     ]
    }
   ],
   "source": [
    "# 初期化\n",
    "np.random.seed(0)\n",
    "init_beta = np.random.rand(3)\n",
    "print(\"初期パラメータ: \", init_beta)\n",
    "init_loss = negative_loglikelihood(Y, np.exp(np.sum(X*init_beta, axis=1)))"
   ]
  },
  {
   "cell_type": "code",
   "execution_count": 29,
   "id": "d485e57d",
   "metadata": {},
   "outputs": [
    {
     "name": "stdout",
     "output_type": "stream",
     "text": [
      "パラメータ:  [ 1.57472446 -1.5324384   0.73087205]\n"
     ]
    }
   ],
   "source": [
    "beta = init_beta\n",
    "# パラメータ更新\n",
    "beta_result = [list(init_beta)]\n",
    "loss_result = [[0, init_loss]]\n",
    "for i in range(10):\n",
    "    grad = negative_loglikelihood_grad(Y, X, beta)\n",
    "    hess = negative_loglikelihood_hess(X, beta)\n",
    "    beta = beta - (np.linalg.inv(hess).dot(grad))\n",
    "    lambda_hat = np.exp(np.sum(X*beta, axis=1))\n",
    "    # save\n",
    "    beta_result.append(list(beta))\n",
    "    loss_result.append([i+1, negative_loglikelihood(Y, lambda_hat)])\n",
    "print(\"パラメータ: \", beta)\n",
    "beta_result = np.array(beta_result)\n",
    "loss_result = np.array(loss_result)"
   ]
  },
  {
   "cell_type": "code",
   "execution_count": 30,
   "id": "d589f865",
   "metadata": {},
   "outputs": [
    {
     "data": {
      "text/plain": [
       "[<matplotlib.lines.Line2D at 0x15b6f9580>]"
      ]
     },
     "execution_count": 30,
     "metadata": {},
     "output_type": "execute_result"
    },
    {
     "data": {
      "image/png": "[encoded data removed]",
      "text/plain": [
       "<Figure size 432x288 with 1 Axes>"
      ]
     },
     "metadata": {
      "needs_background": "light"
     },
     "output_type": "display_data"
    }
   ],
   "source": [
    "# loss関数の推移\n",
    "plt.plot(loss_result[:, 0], loss_result[:, 1])"
   ]
  },
  {
   "cell_type": "code",
   "execution_count": 31,
   "id": "1d12313e",
   "metadata": {},
   "outputs": [
    {
     "data": {
      "text/plain": [
       "[<matplotlib.lines.Line2D at 0x15f8f6d30>]"
      ]
     },
     "execution_count": 31,
     "metadata": {},
     "output_type": "execute_result"
    },
    {
     "data": {
      "image/png": "[encoded data removed]",
      "text/plain": [
       "<Figure size 432x288 with 1 Axes>"
      ]
     },
     "metadata": {
      "needs_background": "light"
     },
     "output_type": "display_data"
    }
   ],
   "source": [
    "# パラメータの推移\n",
    "plt.plot(loss_result[:, 0], beta_result[:, 0])\n",
    "plt.plot(loss_result[:, 0], beta_result[:, 1])\n",
    "plt.plot(loss_result[:, 0], beta_result[:, 2])"
   ]
  }
 ],
 "metadata": {
  "kernelspec": {
   "display_name": "Python 3 (ipykernel)",
   "language": "python",
   "name": "python3"
  },
  "language_info": {
   "codemirror_mode": {
    "name": "ipython",
    "version": 3
   },
   "file_extension": ".py",
   "mimetype": "text/x-python",
   "name": "python",
   "nbconvert_exporter": "python",
   "pygments_lexer": "ipython3",
   "version": "3.9.11"
  }
 },
 "nbformat": 4,
 "nbformat_minor": 5
}
