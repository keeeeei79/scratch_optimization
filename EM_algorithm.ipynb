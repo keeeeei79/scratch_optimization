{
 "cells": [
  {
   "cell_type": "markdown",
   "id": "9fa94772",
   "metadata": {},
   "source": [
    "# Reference\n",
    "- https://www.youtube.com/watch?v=W8DJlpOOs0U\n",
    "- https://qiita.com/kenmatsu4/items/59ea3e5dfa3d4c161efb"
   ]
  },
  {
   "cell_type": "markdown",
   "id": "4dcd2d4e",
   "metadata": {},
   "source": [
    "# Jensenの不等式\n",
    "- 上に凸の関数なのか下に凸の関数なのかで不等号の向きが変わるので注意\n",
    "- ここでは対数尤度関数を考えるので上に凸の関数の場合は記述する\n",
    "$$\n",
    "    f(\\sum_i \\lambda_i x_i) \\ge \\sum_i \\lambda_i f(x_i)\n",
    "$$"
   ]
  },
  {
   "cell_type": "markdown",
   "id": "9a8332e1",
   "metadata": {},
   "source": [
    "# EMアルゴリズム\n",
    "- EMアルゴリズムは観測不可能な潜在変数にモデルが依存する場合の最尤推定の計算方法の1つ\n",
    "- 各変数の定義は以下\n",
    "$$\n",
    "    X: 観測変数, Z: 潜在変数, \\theta: パラメータ, 対数尤度関数(LL) : \\ln p(x|\\theta)\n",
    "$$"
   ]
  },
  {
   "cell_type": "markdown",
   "id": "2d5d2370",
   "metadata": {},
   "source": [
    "LLに潜在変数を導入する。\n",
    "$$\n",
    "    LL = \\log \\sum_z p(X,Z|\\theta)\n",
    "$$\n",
    "ここに潜在変数についての分布q(Z)を導入し、LLを変分下限とKLに分解できるようにする。変分下限($L(q, \\theta)$)はイェンセンの不等式から導出する。\n",
    "\n",
    "$$\n",
    "    \\log \\sum_z p(X,Z|\\theta) = \\log \\sum_Z q(Z) \\frac{p(X, Z| \\theta)}{q(Z)} \\ge \\sum_Z q(Z) \\log \\frac{p(X, Z| \\theta)}{q(Z)} = L(q, \\theta)\n",
    "$$"
   ]
  },
  {
   "cell_type": "markdown",
   "id": "2d3654e1",
   "metadata": {},
   "source": [
    "次にLLと変分下限の差を計算するとLLと変分下限の差がカルバックライブラー情報量になってることがわかる\n",
    "$$\n",
    "    LL - L(q, \\theta) = \\log p(X|\\theta) - \\sum_Z q(Z) \\log \\frac{p(X, Z| \\theta)}{q(Z)} \\\\\n",
    "    = \\log p(X|\\theta) \\sum_Z q(Z) - \\sum_Z q(Z) \\log \\frac{p(Z|X, \\theta)p(X|\\theta)}{q(Z)} \\\\\n",
    "    = \\sum_Z q(Z) \\log p(X|\\theta)  - \\sum_Z q(Z) \\log \\frac{p(Z|X, \\theta)p(X|\\theta)}{q(Z)} \\\\\n",
    "    = \\sum_Z q(Z) \\log \\frac{p(Z|X, \\theta)}{q(Z)} = KL(q, p)\n",
    "$$"
   ]
  },
  {
   "cell_type": "markdown",
   "id": "6aa25029",
   "metadata": {},
   "source": [
    "よって対数尤度は変分下限とKLの和に分解できることがわかる\n",
    "$$\n",
    "    LL = L(q, \\theta) + KL(q, p)\n",
    "$$"
   ]
  },
  {
   "cell_type": "markdown",
   "id": "ff3552c5",
   "metadata": {},
   "source": [
    "EMアルゴリズムではEステップで$\\theta$を固定し$KL(q,p)=0$となる$q(Z)$を求め、Mステップで$q(Z)$を固定して変分下限$L(q, \\theta)$を最大化する$\\theta$を求める"
   ]
  },
  {
   "cell_type": "markdown",
   "id": "c9881ab7",
   "metadata": {},
   "source": [
    "Eステップ: $KL(q, p)= 0$ となるのは$q=p$となる時なので\n",
    "$$\n",
    "    q(Z) = p(Z|X, \\theta^{old})\n",
    "$$"
   ]
  },
  {
   "cell_type": "markdown",
   "id": "b8610b39",
   "metadata": {},
   "source": [
    "Mステップ: Eステップで求めた$q(Z)$を使って変分下限を最大化する$\\theta$を求める\n",
    "$$\n",
    "    L(q, \\theta) = \\sum_Z q(Z) \\log \\frac{p(X, Z| \\theta)}{q(Z)} = \\sum_Z p(Z|X, \\theta^{old}) \\log \\frac{p(X, Z| \\theta)}{p(Z|X, \\theta^{old})} \\\\\n",
    "    = \\sum_Z p(Z|X, \\theta^{old}) \\log p(X, Z| \\theta) - p(Z|X, \\theta^{old}) \\log p(Z|X, \\theta^{old}) \n",
    "$$\n",
    "ここで$p(Z|X, \\theta^{old}) \\log p(Z|X, \\theta^{old})$は定数なのでconstとする。\n",
    "$$\n",
    "    = \\sum_Z p(Z|X, \\theta^{old}) \\log p(X, Z| \\theta) + const = Q(\\theta, \\theta^{old}) + const\n",
    "$$"
   ]
  },
  {
   "cell_type": "markdown",
   "id": "fe5b7c5c",
   "metadata": {},
   "source": [
    "あとはここで定義した$Q(\\theta, \\theta^{old})$を最大化する$\\theta$を求める。(EMアルゴリズムでは$p(X, Z| \\theta)$は最適化可能と仮定する)"
   ]
  },
  {
   "cell_type": "markdown",
   "id": "f882fb2b",
   "metadata": {},
   "source": [
    "# 実際にGMMを計算式に従って実装する\n",
    "- GMMはデータが複数の正規分布のうち1つから生成されたと仮定する\n",
    "- 複数の正規分布のうちどれだったかを示す潜在変数がZとして定義される\n",
    "$$\n",
    "   p(z_k=1)=\\pi_k,  p(x|\\theta) = \\sum_z p(z)p(x|z, \\theta) = \\sum_z \\Pi_k^K(\\pi_k N(\\mu_k, \\Sigma_k))^{z_k} = \\sum_k^K \\pi_k N(\\mu_k, \\Sigma_k)\n",
    "$$"
   ]
  },
  {
   "cell_type": "markdown",
   "id": "182648e1",
   "metadata": {},
   "source": [
    "上より対数尤度関数LLは以下になる\n",
    "$$\n",
    "    LL = \\log p(X|\\theta) = \\sum_n^N \\log (\\sum_k^K \\pi_k N(\\mu_k, \\Sigma_k))\n",
    "$$"
   ]
  },
  {
   "cell_type": "markdown",
   "id": "2095e4e1",
   "metadata": {},
   "source": [
    "Eステップ: $p(Z| X, \\theta)$を求めてQ関数を特定する\n",
    "$$\n",
    "    p(Z| X, \\theta) = \\frac{p(X, Z|\\theta)}{p(X| \\theta)} \\\\\n",
    "$$\n",
    "$$\n",
    "    p(X, Z|\\theta) = \\Pi_n^N p(x_n, z_n|\\theta) = \\Pi_n^N \\Pi_k^K (\\pi_k N(\\mu_k, \\Sigma_k))^{z_{nk}}\n",
    "$$\n",
    "$$\n",
    "    p(X |\\theta) = \\Pi_n^N \\sum_k^K \\pi_k N(\\mu_k, \\Sigma_k)\n",
    "$$"
   ]
  },
  {
   "cell_type": "markdown",
   "id": "7f13ae49",
   "metadata": {},
   "source": [
    "上の式より$p(Z| X, \\theta)$が求まる"
   ]
  },
  {
   "cell_type": "markdown",
   "id": "7dcc63c2",
   "metadata": {},
   "source": [
    "Q関数は$\\sum_Z p(Z|X,\\theta^{old}) \\log p(X,Z|\\theta)$なので$\\log p(X,Z|\\theta)$を$p(Z|X,\\theta^{old})$で重み付けしたものになる。\n",
    "$$\n",
    "    \\log p(X,Z|\\theta) = \\sum_n^N \\sum_k^K z_{nk}(\\log \\pi_k + \\log N(\\mu_k, \\Sigma_k))\n",
    "$$"
   ]
  },
  {
   "cell_type": "markdown",
   "id": "f1b1018e",
   "metadata": {},
   "source": [
    "$\\sum_Z p(Z|X,\\theta^{old}) $はZに関する期待値になるので$z_{nk}$について計算する\n",
    "$$\n",
    "    \\sum_Z p(Z|X,\\theta^{old}) z_{nk} = \\sum_Z \\frac{\\Pi_k^K (\\pi_k N(\\mu_k, \\Sigma_k))^{z_{nk}}}{\\sum_k^K \\pi_k N(\\mu_k, \\Sigma_k)} z_{nk} = \\frac{\\pi_k N(\\mu_k, \\Sigma_k))}{\\sum_k^K \\pi_k N(\\mu_k, \\Sigma_k)} = \\gamma(z_{nk})\n",
    "$$\n",
    "よって\n",
    "$$\n",
    "    Q = \\sum_n^N \\sum_k^K \\gamma(z_{nk}) (\\log \\pi_k + \\log N(\\mu_k, \\Sigma_k))\n",
    "$$"
   ]
  },
  {
   "cell_type": "markdown",
   "id": "043a1951",
   "metadata": {},
   "source": [
    "Mステップ: Q関数を$\\mu_k, \\Sigma_k, \\pi_k$で偏微分をして最適なパラメータを求める\n",
    "$$\n",
    "    \\frac{dQ}{d\\mu_k} = \\sum_n^N \\gamma(z_{nk}) \\frac{\\log N(\\mu_k, \\Sigma_k)}{d\\mu_k} = 0を解くと\n",
    "$$\n",
    "$$\n",
    "    \\mu_k = \\frac{1}{N_k} \\sum_n^N \\gamma(z_{nk})x_n, (N_k = \\sum_n^N \\gamma(z_{nk}))\n",
    "$$\n",
    "同様にして$\\Sigma_k, \\pi_k$も計算する"
   ]
  },
  {
   "cell_type": "markdown",
   "id": "493aacf2",
   "metadata": {},
   "source": [
    "- 1つのデータに対する確率なのか、データ全体が同時に起こる確率なのかを意識しないと混乱するので注意"
   ]
  },
  {
   "cell_type": "markdown",
   "id": "8006c4a4",
   "metadata": {},
   "source": [
    "# 実際にデータを生成する"
   ]
  },
  {
   "cell_type": "code",
   "execution_count": 1,
   "id": "13925914",
   "metadata": {},
   "outputs": [],
   "source": [
    "import numpy as np\n",
    "import pandas as pd\n",
    "import matplotlib.pyplot as plt"
   ]
  },
  {
   "cell_type": "code",
   "execution_count": 2,
   "id": "f9d45012",
   "metadata": {},
   "outputs": [],
   "source": [
    "a_x = np.random.normal(0, 3, 100)\n",
    "b_x = np.random.normal(5, 2, 100)\n",
    "c_x = np.random.normal(-8, 5, 100)"
   ]
  },
  {
   "cell_type": "code",
   "execution_count": 3,
   "id": "8b6edb3b",
   "metadata": {},
   "outputs": [],
   "source": [
    "a_y = np.random.normal(0, 3, 100)\n",
    "b_y = np.random.normal(5, 2, 100)\n",
    "c_y = np.random.normal(8, 5, 100)"
   ]
  },
  {
   "cell_type": "code",
   "execution_count": 4,
   "id": "88c9da11",
   "metadata": {},
   "outputs": [],
   "source": [
    "all_x = np.concatenate([a_x, b_x, c_x])\n",
    "all_y = np.concatenate([a_y, b_y, c_y])"
   ]
  },
  {
   "cell_type": "code",
   "execution_count": 5,
   "id": "e3942678",
   "metadata": {},
   "outputs": [
    {
     "data": {
      "text/plain": [
       "<matplotlib.collections.PathCollection at 0x12a67f9a0>"
      ]
     },
     "execution_count": 5,
     "metadata": {},
     "output_type": "execute_result"
    },
    {
     "data": {
      "image/png": "[encoded data removed]",
      "text/plain": [
       "<Figure size 432x288 with 1 Axes>"
      ]
     },
     "metadata": {
      "needs_background": "light"
     },
     "output_type": "display_data"
    }
   ],
   "source": [
    "plt.scatter(all_x, all_y)"
   ]
  },
  {
   "cell_type": "code",
   "execution_count": 6,
   "id": "df3d0f6a",
   "metadata": {},
   "outputs": [
    {
     "data": {
      "text/plain": [
       "<matplotlib.collections.PathCollection at 0x12a7cfac0>"
      ]
     },
     "execution_count": 6,
     "metadata": {},
     "output_type": "execute_result"
    },
    {
     "data": {
      "image/png": "[encoded data removed]",
      "text/plain": [
       "<Figure size 432x288 with 1 Axes>"
      ]
     },
     "metadata": {
      "needs_background": "light"
     },
     "output_type": "display_data"
    }
   ],
   "source": [
    "plt.scatter(a_x, a_y)\n",
    "plt.scatter(b_x, b_y)\n",
    "plt.scatter(c_x, c_y)"
   ]
  },
  {
   "cell_type": "code",
   "execution_count": 7,
   "id": "41201c27",
   "metadata": {},
   "outputs": [],
   "source": [
    "df = pd.DataFrame(zip(all_x, all_y), columns=['x', 'y'])\n",
    "df['label'] = ['a']*len(a_x) + ['b']*len(b_x) + ['c']*len(c_x)"
   ]
  },
  {
   "cell_type": "code",
   "execution_count": 8,
   "id": "50375eaa",
   "metadata": {},
   "outputs": [],
   "source": [
    "from sklearn.mixture import GaussianMixture"
   ]
  },
  {
   "cell_type": "code",
   "execution_count": 9,
   "id": "7207249d",
   "metadata": {},
   "outputs": [],
   "source": [
    "model = GaussianMixture(n_components=3, random_state=0)"
   ]
  },
  {
   "cell_type": "code",
   "execution_count": 10,
   "id": "6fd6aa99",
   "metadata": {},
   "outputs": [
    {
     "data": {
      "text/html": [
       "<style>#sk-container-id-1 {color: black;background-color: white;}#sk-container-id-1 pre{padding: 0;}#sk-container-id-1 div.sk-toggleable {background-color: white;}#sk-container-id-1 label.sk-toggleable__label {cursor: pointer;display: block;width: 100%;margin-bottom: 0;padding: 0.3em;box-sizing: border-box;text-align: center;}#sk-container-id-1 label.sk-toggleable__label-arrow:before {content: \"▸\";float: left;margin-right: 0.25em;color: #696969;}#sk-container-id-1 label.sk-toggleable__label-arrow:hover:before {color: black;}#sk-container-id-1 div.sk-estimator:hover label.sk-toggleable__label-arrow:before {color: black;}#sk-container-id-1 div.sk-toggleable__content {max-height: 0;max-width: 0;overflow: hidden;text-align: left;background-color: #f0f8ff;}#sk-container-id-1 div.sk-toggleable__content pre {margin: 0.2em;color: black;border-radius: 0.25em;background-color: #f0f8ff;}#sk-container-id-1 input.sk-toggleable__control:checked~div.sk-toggleable__content {max-height: 200px;max-width: 100%;overflow: auto;}#sk-container-id-1 input.sk-toggleable__control:checked~label.sk-toggleable__label-arrow:before {content: \"▾\";}#sk-container-id-1 div.sk-estimator input.sk-toggleable__control:checked~label.sk-toggleable__label {background-color: #d4ebff;}#sk-container-id-1 div.sk-label input.sk-toggleable__control:checked~label.sk-toggleable__label {background-color: #d4ebff;}#sk-container-id-1 input.sk-hidden--visually {border: 0;clip: rect(1px 1px 1px 1px);clip: rect(1px, 1px, 1px, 1px);height: 1px;margin: -1px;overflow: hidden;padding: 0;position: absolute;width: 1px;}#sk-container-id-1 div.sk-estimator {font-family: monospace;background-color: #f0f8ff;border: 1px dotted black;border-radius: 0.25em;box-sizing: border-box;margin-bottom: 0.5em;}#sk-container-id-1 div.sk-estimator:hover {background-color: #d4ebff;}#sk-container-id-1 div.sk-parallel-item::after {content: \"\";width: 100%;border-bottom: 1px solid gray;flex-grow: 1;}#sk-container-id-1 div.sk-label:hover label.sk-toggleable__label {background-color: #d4ebff;}#sk-container-id-1 div.sk-serial::before {content: \"\";position: absolute;border-left: 1px solid gray;box-sizing: border-box;top: 0;bottom: 0;left: 50%;z-index: 0;}#sk-container-id-1 div.sk-serial {display: flex;flex-direction: column;align-items: center;background-color: white;padding-right: 0.2em;padding-left: 0.2em;position: relative;}#sk-container-id-1 div.sk-item {position: relative;z-index: 1;}#sk-container-id-1 div.sk-parallel {display: flex;align-items: stretch;justify-content: center;background-color: white;position: relative;}#sk-container-id-1 div.sk-item::before, #sk-container-id-1 div.sk-parallel-item::before {content: \"\";position: absolute;border-left: 1px solid gray;box-sizing: border-box;top: 0;bottom: 0;left: 50%;z-index: -1;}#sk-container-id-1 div.sk-parallel-item {display: flex;flex-direction: column;z-index: 1;position: relative;background-color: white;}#sk-container-id-1 div.sk-parallel-item:first-child::after {align-self: flex-end;width: 50%;}#sk-container-id-1 div.sk-parallel-item:last-child::after {align-self: flex-start;width: 50%;}#sk-container-id-1 div.sk-parallel-item:only-child::after {width: 0;}#sk-container-id-1 div.sk-dashed-wrapped {border: 1px dashed gray;margin: 0 0.4em 0.5em 0.4em;box-sizing: border-box;padding-bottom: 0.4em;background-color: white;}#sk-container-id-1 div.sk-label label {font-family: monospace;font-weight: bold;display: inline-block;line-height: 1.2em;}#sk-container-id-1 div.sk-label-container {text-align: center;}#sk-container-id-1 div.sk-container {/* jupyter's `normalize.less` sets `[hidden] { display: none; }` but bootstrap.min.css set `[hidden] { display: none !important; }` so we also need the `!important` here to be able to override the default hidden behavior on the sphinx rendered scikit-learn.org. See: https://github.com/scikit-learn/scikit-learn/issues/21755 */display: inline-block !important;position: relative;}#sk-container-id-1 div.sk-text-repr-fallback {display: none;}</style><div id=\"sk-container-id-1\" class=\"sk-top-container\"><div class=\"sk-text-repr-fallback\"><pre>GaussianMixture(n_components=3, random_state=0)</pre><b>In a Jupyter environment, please rerun this cell to show the HTML representation or trust the notebook. <br />On GitHub, the HTML representation is unable to render, please try loading this page with nbviewer.org.</b></div><div class=\"sk-container\" hidden><div class=\"sk-item\"><div class=\"sk-estimator sk-toggleable\"><input class=\"sk-toggleable__control sk-hidden--visually\" id=\"sk-estimator-id-1\" type=\"checkbox\" checked><label for=\"sk-estimator-id-1\" class=\"sk-toggleable__label sk-toggleable__label-arrow\">GaussianMixture</label><div class=\"sk-toggleable__content\"><pre>GaussianMixture(n_components=3, random_state=0)</pre></div></div></div></div></div>"
      ],
      "text/plain": [
       "GaussianMixture(n_components=3, random_state=0)"
      ]
     },
     "execution_count": 10,
     "metadata": {},
     "output_type": "execute_result"
    }
   ],
   "source": [
    "model.fit(df[['x', 'y']])"
   ]
  },
  {
   "cell_type": "code",
   "execution_count": 11,
   "id": "1ffd86c6",
   "metadata": {},
   "outputs": [
    {
     "data": {
      "text/plain": [
       "array([[ 4.9360602 ,  5.35997068],\n",
       "       [ 0.47970282, -0.41504387],\n",
       "       [-6.87363472,  7.41886468]])"
      ]
     },
     "execution_count": 11,
     "metadata": {},
     "output_type": "execute_result"
    }
   ],
   "source": [
    "model.means_"
   ]
  },
  {
   "cell_type": "code",
   "execution_count": 12,
   "id": "63081f61",
   "metadata": {},
   "outputs": [],
   "source": [
    "df['pred'] = model.predict(df[['x', 'y']])"
   ]
  },
  {
   "cell_type": "code",
   "execution_count": 13,
   "id": "c97c6430",
   "metadata": {},
   "outputs": [
    {
     "data": {
      "image/png": "[encoded data removed]",
      "text/plain": [
       "<Figure size 432x288 with 1 Axes>"
      ]
     },
     "metadata": {
      "needs_background": "light"
     },
     "output_type": "display_data"
    }
   ],
   "source": [
    "for i, d in df.groupby('pred'):\n",
    "    plt.scatter(d['x'], d['y'])"
   ]
  },
  {
   "cell_type": "code",
   "execution_count": 18,
   "id": "03ee93d7",
   "metadata": {},
   "outputs": [
    {
     "data": {
      "text/plain": [
       "array([[1.16155974e-09, 9.49345981e-01, 5.06540176e-02],\n",
       "       [3.34830990e-07, 9.74766015e-01, 2.52336497e-02],\n",
       "       [1.66680566e-09, 8.76397916e-01, 1.23602082e-01],\n",
       "       [1.98250278e-08, 9.49297017e-01, 5.07029632e-02],\n",
       "       [7.82413616e-10, 2.08259077e-01, 7.91740923e-01],\n",
       "       [1.52210665e-08, 3.65443653e-02, 9.63455619e-01],\n",
       "       [2.53569971e-03, 9.78781842e-01, 1.86824580e-02],\n",
       "       [3.10937125e-01, 5.86060314e-01, 1.03002561e-01],\n",
       "       [4.94812383e-09, 9.33488756e-01, 6.65112391e-02],\n",
       "       [6.66702705e-08, 6.05483352e-01, 3.94516581e-01],\n",
       "       [9.56059590e-01, 6.63099896e-03, 3.73094112e-02],\n",
       "       [1.09114779e-03, 6.38449669e-01, 3.60459184e-01],\n",
       "       [2.29025855e-05, 8.32536672e-01, 1.67440425e-01],\n",
       "       [2.34303898e-04, 5.22795571e-01, 4.76970125e-01],\n",
       "       [2.04902758e-07, 9.68669876e-01, 3.13299190e-02],\n",
       "       [8.01607347e-01, 1.93364198e-01, 5.02845564e-03],\n",
       "       [1.53166014e-09, 9.34475313e-01, 6.55246857e-02],\n",
       "       [4.87939492e-03, 8.24099207e-01, 1.71021398e-01],\n",
       "       [8.71660225e-05, 9.85780715e-01, 1.41321186e-02],\n",
       "       [6.95601084e-06, 4.54689293e-01, 5.45303751e-01],\n",
       "       [9.18480676e-03, 9.68098244e-01, 2.27169494e-02],\n",
       "       [1.55933712e-03, 9.80580060e-01, 1.78606033e-02],\n",
       "       [4.93141592e-18, 6.40608675e-01, 3.59391325e-01],\n",
       "       [2.05185652e-02, 1.90890150e-02, 9.60392420e-01],\n",
       "       [1.23010780e-13, 8.79415777e-01, 1.20584223e-01],\n",
       "       [8.48881279e-02, 7.59273823e-01, 1.55838049e-01],\n",
       "       [2.38064131e-06, 9.79313751e-01, 2.06838680e-02],\n",
       "       [1.69121295e-04, 9.76324797e-01, 2.35060821e-02],\n",
       "       [4.76008807e-03, 9.79724509e-01, 1.55154030e-02],\n",
       "       [8.09700738e-03, 9.81661907e-01, 1.02410854e-02],\n",
       "       [2.56594370e-13, 9.01596135e-01, 9.84038646e-02],\n",
       "       [1.13625056e-04, 8.75178174e-01, 1.24708201e-01],\n",
       "       [5.40751670e-07, 4.66148413e-01, 5.33851046e-01],\n",
       "       [9.64006768e-01, 3.47080272e-03, 3.25224289e-02],\n",
       "       [7.43796615e-01, 2.53724497e-01, 2.47888791e-03],\n",
       "       [2.60832766e-03, 9.84249589e-01, 1.31420834e-02],\n",
       "       [9.07586841e-02, 9.00507303e-01, 8.73401275e-03],\n",
       "       [1.01383728e-07, 9.19948857e-01, 8.00510416e-02],\n",
       "       [4.75238887e-01, 3.23638213e-01, 2.01122900e-01],\n",
       "       [1.17554230e-06, 9.12851951e-01, 8.71468731e-02],\n",
       "       [1.29201203e-09, 9.51277429e-01, 4.87225695e-02],\n",
       "       [2.29413552e-04, 9.83817352e-01, 1.59532347e-02],\n",
       "       [1.66374097e-07, 7.32697769e-01, 2.67302064e-01],\n",
       "       [3.67943409e-03, 9.86848285e-01, 9.47228122e-03],\n",
       "       [6.74517020e-02, 9.21786877e-01, 1.07614210e-02],\n",
       "       [9.53741234e-06, 6.95574188e-01, 3.04416274e-01],\n",
       "       [7.79462405e-08, 5.85216259e-01, 4.14783663e-01],\n",
       "       [2.14951660e-04, 9.82577322e-01, 1.72077264e-02],\n",
       "       [3.27942201e-01, 6.63664993e-01, 8.39280613e-03],\n",
       "       [1.56813367e-13, 7.24799359e-01, 2.75200641e-01],\n",
       "       [2.72306686e-06, 9.79679150e-01, 2.03181267e-02],\n",
       "       [1.14477587e-05, 9.00445356e-01, 9.95431962e-02],\n",
       "       [8.16943064e-01, 7.58286551e-03, 1.75474071e-01],\n",
       "       [1.85901340e-06, 9.68560445e-01, 3.14376962e-02],\n",
       "       [1.04035859e-02, 2.07598994e-01, 7.81997420e-01],\n",
       "       [2.04763554e-04, 9.43922443e-01, 5.58727937e-02],\n",
       "       [2.86502938e-03, 9.86967548e-01, 1.01674222e-02],\n",
       "       [2.33135763e-03, 9.76884206e-01, 2.07844360e-02],\n",
       "       [5.42780818e-05, 7.72737954e-01, 2.27207768e-01],\n",
       "       [4.68965893e-02, 9.31447626e-01, 2.16557851e-02],\n",
       "       [2.17655352e-07, 9.12797314e-01, 8.72024683e-02],\n",
       "       [4.69306206e-15, 8.08989791e-01, 1.91010209e-01],\n",
       "       [3.94817898e-04, 1.54112511e-01, 8.45492671e-01],\n",
       "       [2.01220270e-10, 9.17161338e-01, 8.28386617e-02],\n",
       "       [2.64512883e-11, 8.87807202e-01, 1.12192798e-01],\n",
       "       [1.43050275e-06, 9.66364122e-01, 3.36344472e-02],\n",
       "       [6.88784526e-02, 4.77620806e-02, 8.83359467e-01],\n",
       "       [9.13167590e-01, 5.97871747e-02, 2.70452351e-02],\n",
       "       [1.89174224e-01, 6.41530690e-02, 7.46672707e-01],\n",
       "       [3.16461719e-02, 9.33648657e-01, 3.47051713e-02],\n",
       "       [1.77875529e-15, 7.47781716e-01, 2.52218284e-01],\n",
       "       [2.26160532e-05, 9.51641932e-01, 4.83354517e-02],\n",
       "       [1.54070717e-08, 9.37859582e-01, 6.21404027e-02],\n",
       "       [1.20163520e-01, 6.47805885e-01, 2.32030595e-01],\n",
       "       [6.90856381e-04, 9.57012803e-01, 4.22963409e-02],\n",
       "       [2.40696608e-01, 7.54085368e-01, 5.21802334e-03],\n",
       "       [2.89552254e-05, 9.80797684e-01, 1.91733607e-02],\n",
       "       [4.03248405e-06, 9.77175619e-01, 2.28203482e-02],\n",
       "       [1.72399687e-09, 6.48502014e-01, 3.51497984e-01],\n",
       "       [7.07796170e-05, 7.08072774e-01, 2.91856446e-01],\n",
       "       [8.44193861e-06, 9.63948024e-01, 3.60435344e-02],\n",
       "       [9.73251395e-04, 8.77241209e-01, 1.21785540e-01],\n",
       "       [1.32725555e-12, 9.12952858e-01, 8.70471424e-02],\n",
       "       [2.07278599e-03, 9.69194968e-01, 2.87322464e-02],\n",
       "       [2.26031090e-02, 9.70131404e-01, 7.26548673e-03],\n",
       "       [1.59457585e-05, 9.80966673e-01, 1.90173814e-02],\n",
       "       [4.87527344e-01, 2.21859643e-03, 5.10254060e-01],\n",
       "       [5.14290076e-02, 8.77262386e-01, 7.13086063e-02],\n",
       "       [4.68560011e-07, 9.70527858e-01, 2.94716733e-02],\n",
       "       [8.69257307e-06, 9.34419242e-01, 6.55720654e-02],\n",
       "       [2.11847904e-02, 9.63187947e-01, 1.56272621e-02],\n",
       "       [9.13684328e-02, 3.37129055e-01, 5.71502512e-01],\n",
       "       [8.21592815e-02, 8.90405507e-01, 2.74352119e-02],\n",
       "       [1.35247889e-08, 9.63609778e-01, 3.63902080e-02],\n",
       "       [6.37510621e-04, 9.76514030e-01, 2.28484589e-02],\n",
       "       [1.25709035e-08, 9.57221008e-01, 4.27789795e-02],\n",
       "       [1.97982544e-01, 3.15323917e-05, 8.01985924e-01],\n",
       "       [4.60601441e-04, 9.85105566e-01, 1.44338331e-02],\n",
       "       [1.72826162e-08, 3.40939372e-01, 6.59060611e-01],\n",
       "       [1.18398361e-02, 8.05256629e-01, 1.82903535e-01],\n",
       "       [9.72667339e-01, 2.54508722e-02, 1.88178842e-03],\n",
       "       [9.88731667e-01, 3.70304516e-03, 7.56528773e-03],\n",
       "       [9.90201675e-01, 5.37455983e-03, 4.42376510e-03],\n",
       "       [9.29541749e-01, 6.87754535e-02, 1.68279789e-03],\n",
       "       [9.61345392e-01, 2.08244581e-02, 1.78301495e-02],\n",
       "       [8.39307145e-01, 1.56615089e-01, 4.07776610e-03],\n",
       "       [9.83574257e-01, 1.33709010e-02, 3.05484234e-03],\n",
       "       [9.72089479e-01, 2.60715218e-02, 1.83899973e-03],\n",
       "       [9.81130429e-01, 1.74072269e-02, 1.46234440e-03],\n",
       "       [9.27144023e-01, 5.55228820e-02, 1.73330947e-02],\n",
       "       [9.87396946e-01, 6.38884081e-03, 6.21421337e-03],\n",
       "       [9.87264806e-01, 5.23280910e-03, 7.50238498e-03],\n",
       "       [9.02195845e-01, 9.64942244e-02, 1.30993031e-03],\n",
       "       [9.80577200e-01, 1.03334636e-03, 1.83894533e-02],\n",
       "       [3.83738994e-01, 6.10531574e-01, 5.72943221e-03],\n",
       "       [8.95234901e-01, 1.01884219e-01, 2.88087913e-03],\n",
       "       [9.08098858e-01, 2.54503679e-02, 6.64507744e-02],\n",
       "       [9.87286598e-01, 1.01625088e-02, 2.55089332e-03],\n",
       "       [7.06881885e-01, 2.62270731e-01, 3.08473848e-02],\n",
       "       [8.45571782e-01, 2.03877319e-02, 1.34040486e-01],\n",
       "       [9.32114666e-01, 2.79501536e-02, 3.99351804e-02],\n",
       "       [9.88274285e-01, 2.27280462e-03, 9.45291024e-03],\n",
       "       [9.63849160e-01, 2.52684454e-02, 1.08823941e-02],\n",
       "       [1.84977466e-01, 7.55422929e-01, 5.95996050e-02],\n",
       "       [9.84582401e-01, 2.94588698e-03, 1.24717121e-02],\n",
       "       [9.89063462e-01, 3.94970219e-03, 6.98683579e-03],\n",
       "       [2.66381481e-01, 6.65132882e-01, 6.84856367e-02],\n",
       "       [9.78352300e-01, 1.72061851e-02, 4.44151504e-03],\n",
       "       [9.85728056e-01, 1.25067504e-02, 1.76519387e-03],\n",
       "       [7.64686296e-01, 2.27321762e-01, 7.99194209e-03],\n",
       "       [9.65314424e-01, 3.34898762e-02, 1.19569999e-03],\n",
       "       [9.79984736e-01, 2.65419701e-03, 1.73610671e-02],\n",
       "       [3.04553545e-01, 6.86678792e-01, 8.76766329e-03],\n",
       "       [8.13966507e-01, 1.80621725e-01, 5.41176761e-03],\n",
       "       [9.89976371e-01, 7.43178989e-03, 2.59183880e-03],\n",
       "       [9.60444307e-01, 4.45360967e-03, 3.51020833e-02],\n",
       "       [4.51550594e-02, 9.48097046e-01, 6.74789435e-03],\n",
       "       [9.70403366e-01, 2.79746266e-02, 1.62200708e-03],\n",
       "       [8.77299561e-01, 9.86016863e-02, 2.40987523e-02],\n",
       "       [9.09708735e-01, 8.70145249e-02, 3.27674007e-03],\n",
       "       [9.65734422e-01, 3.31208075e-02, 1.14477030e-03],\n",
       "       [2.33454707e-01, 7.57249806e-01, 9.29548653e-03],\n",
       "       [8.60302698e-01, 1.37112448e-01, 2.58485391e-03],\n",
       "       [4.03676188e-01, 5.89740063e-01, 6.58374917e-03],\n",
       "       [9.69712881e-01, 2.84524316e-02, 1.83468718e-03],\n",
       "       [9.91585252e-01, 5.13120797e-03, 3.28354006e-03],\n",
       "       [8.88724280e-01, 1.07193341e-01, 4.08237912e-03],\n",
       "       [8.79301866e-01, 1.19383551e-01, 1.31458313e-03],\n",
       "       [9.46151708e-01, 5.26490572e-02, 1.19923496e-03],\n",
       "       [9.90249945e-01, 7.22960984e-03, 2.52044526e-03],\n",
       "       [9.74650407e-01, 2.40664503e-02, 1.28314228e-03],\n",
       "       [9.91390652e-01, 3.14158194e-03, 5.46776588e-03],\n",
       "       [8.19518037e-01, 1.79024456e-01, 1.45750635e-03],\n",
       "       [5.01705033e-01, 4.79498798e-01, 1.87961695e-02],\n",
       "       [9.91281107e-01, 4.51361998e-03, 4.20527351e-03],\n",
       "       [9.78583329e-01, 1.72021945e-02, 4.21447681e-03],\n",
       "       [9.82083872e-01, 1.01933004e-02, 7.72282770e-03],\n",
       "       [7.18468565e-01, 2.74449718e-01, 7.08171719e-03],\n",
       "       [9.77959144e-01, 1.49243032e-02, 7.11655310e-03],\n",
       "       [9.86002377e-01, 1.65130429e-03, 1.23463185e-02],\n",
       "       [8.81686788e-01, 1.15235400e-01, 3.07781208e-03],\n",
       "       [9.84166318e-01, 1.39003332e-02, 1.93334881e-03],\n",
       "       [8.92480811e-03, 9.81360749e-01, 9.71444288e-03],\n",
       "       [9.91945598e-01, 3.81559371e-03, 4.23880819e-03],\n",
       "       [9.25706240e-01, 5.06803713e-04, 7.37869566e-02],\n",
       "       [9.89735246e-01, 7.88474254e-03, 2.38001174e-03],\n",
       "       [9.87418529e-01, 1.05635412e-02, 2.01792940e-03],\n",
       "       [9.84627213e-01, 2.57588050e-03, 1.27969064e-02],\n",
       "       [9.39267138e-01, 3.44991859e-02, 2.62336764e-02],\n",
       "       [9.55128832e-01, 1.15947712e-02, 3.32763968e-02],\n",
       "       [7.54603755e-01, 2.44165184e-01, 1.23106066e-03],\n",
       "       [7.97153687e-01, 1.03194537e-01, 9.96517758e-02],\n",
       "       [7.99155869e-01, 1.98118274e-01, 2.72585710e-03],\n",
       "       [9.82487861e-01, 4.75945751e-03, 1.27526815e-02],\n",
       "       [9.79936336e-01, 1.27605934e-02, 7.30307086e-03],\n",
       "       [9.21991731e-01, 7.64843898e-02, 1.52387964e-03],\n",
       "       [5.83126884e-01, 3.96456383e-01, 2.04167334e-02],\n",
       "       [9.72918271e-01, 1.96548295e-02, 7.42689943e-03],\n",
       "       [9.22982351e-01, 3.40496805e-04, 7.66771525e-02],\n",
       "       [7.39359078e-01, 2.56550934e-01, 4.08998818e-03],\n",
       "       [8.21468804e-01, 1.75446662e-01, 3.08453387e-03],\n",
       "       [9.87516538e-01, 1.88456943e-03, 1.05988930e-02],\n",
       "       [9.79253240e-01, 5.28279138e-03, 1.54639682e-02],\n",
       "       [8.99331763e-01, 9.63766847e-02, 4.29155260e-03],\n",
       "       [9.56773726e-01, 3.95581965e-02, 3.66807752e-03],\n",
       "       [9.83653994e-01, 8.69515529e-03, 7.65085049e-03],\n",
       "       [9.85505074e-01, 1.13204105e-02, 3.17451560e-03],\n",
       "       [9.84227543e-01, 2.39061508e-03, 1.33818423e-02],\n",
       "       [9.24082833e-01, 7.36121321e-02, 2.30503530e-03],\n",
       "       [9.64670099e-01, 1.14903287e-02, 2.38395726e-02],\n",
       "       [9.76443927e-01, 2.12261282e-02, 2.32994515e-03],\n",
       "       [8.24143074e-01, 1.61466332e-01, 1.43905937e-02],\n",
       "       [9.63276768e-01, 1.83863600e-02, 1.83368722e-02],\n",
       "       [9.24647452e-01, 7.43336550e-02, 1.01889290e-03],\n",
       "       [9.73238400e-01, 1.78556238e-03, 2.49760380e-02],\n",
       "       [9.78819001e-01, 1.78485036e-02, 3.33249503e-03],\n",
       "       [9.73297617e-01, 2.43123239e-02, 2.39005899e-03],\n",
       "       [9.87996430e-01, 2.20776721e-03, 9.79580289e-03],\n",
       "       [9.86221469e-01, 1.63586730e-03, 1.21426637e-02],\n",
       "       [9.44667721e-01, 4.26582418e-02, 1.26740367e-02],\n",
       "       [1.39367313e-03, 8.70915214e-06, 9.98597618e-01],\n",
       "       [2.19111595e-07, 1.31859628e-11, 9.99999781e-01],\n",
       "       [6.21147762e-08, 1.18237684e-05, 9.99988114e-01],\n",
       "       [4.74745628e-11, 2.54264227e-11, 1.00000000e+00],\n",
       "       [9.05427494e-16, 2.55601024e-01, 7.44398976e-01],\n",
       "       [5.33237421e-25, 1.13336367e-02, 9.88666363e-01],\n",
       "       [7.00435074e-06, 4.78595651e-07, 9.99992517e-01],\n",
       "       [1.88098732e-03, 8.66217171e-05, 9.98032391e-01],\n",
       "       [1.45065481e-10, 6.45851758e-08, 9.99999935e-01],\n",
       "       [1.05076642e-07, 1.58320791e-06, 9.99998312e-01],\n",
       "       [8.35117015e-09, 5.81360942e-08, 9.99999934e-01],\n",
       "       [2.41553609e-10, 1.49567127e-13, 1.00000000e+00],\n",
       "       [8.43405091e-12, 2.90062727e-02, 9.70993727e-01],\n",
       "       [4.12997464e-13, 1.71267294e-04, 9.99828733e-01],\n",
       "       [3.30294806e-05, 1.63292337e-02, 9.83637737e-01],\n",
       "       [1.79223344e-10, 6.88544157e-05, 9.99931145e-01],\n",
       "       [6.27304820e-18, 1.82645195e-27, 1.00000000e+00],\n",
       "       [2.40126513e-13, 6.03713885e-16, 1.00000000e+00],\n",
       "       [3.10248653e-09, 1.58853741e-08, 9.99999981e-01],\n",
       "       [6.24273438e-09, 4.18960651e-09, 9.99999990e-01],\n",
       "       [1.26718921e-07, 5.20796341e-07, 9.99999352e-01],\n",
       "       [8.10287999e-10, 5.06844078e-10, 9.99999999e-01],\n",
       "       [1.64795693e-19, 9.92561822e-28, 1.00000000e+00],\n",
       "       [7.96289755e-07, 3.95608200e-13, 9.99999204e-01],\n",
       "       [1.37525652e-03, 2.45040468e-08, 9.98624719e-01],\n",
       "       [2.04641858e-14, 1.40719955e-05, 9.99985928e-01],\n",
       "       [1.42960738e-07, 1.61602733e-02, 9.83839584e-01],\n",
       "       [1.88122539e-02, 4.59316231e-02, 9.35256123e-01],\n",
       "       [2.30267634e-06, 3.41077403e-11, 9.99997697e-01],\n",
       "       [3.21498006e-16, 4.60809728e-14, 1.00000000e+00],\n",
       "       [3.58414987e-06, 1.29459753e-04, 9.99866956e-01],\n",
       "       [1.17391443e-16, 5.50679333e-10, 9.99999999e-01],\n",
       "       [1.77799780e-22, 1.56285581e-06, 9.99998437e-01],\n",
       "       [1.18926583e-05, 9.58399257e-08, 9.99988012e-01],\n",
       "       [3.08879636e-09, 9.02942421e-01, 9.70575763e-02],\n",
       "       [2.33776606e-09, 5.71972682e-15, 9.99999998e-01],\n",
       "       [5.41654410e-04, 1.43651867e-08, 9.99458331e-01],\n",
       "       [3.46688890e-05, 8.66982629e-10, 9.99965330e-01],\n",
       "       [7.04871972e-12, 1.81256862e-17, 1.00000000e+00],\n",
       "       [1.96798424e-07, 1.48981257e-08, 9.99999788e-01],\n",
       "       [1.04715848e-07, 1.68950726e-09, 9.99999894e-01],\n",
       "       [9.09175669e-05, 5.44312005e-05, 9.99854651e-01],\n",
       "       [9.49200832e-10, 6.10919404e-10, 9.99999998e-01],\n",
       "       [8.47572407e-05, 8.81090351e-07, 9.99914362e-01],\n",
       "       [2.28812759e-02, 9.66329442e-01, 1.07892817e-02],\n",
       "       [2.14091026e-05, 1.15697498e-02, 9.88408841e-01],\n",
       "       [7.11609301e-02, 3.90287057e-05, 9.28800041e-01],\n",
       "       [4.14640604e-02, 7.68797438e-06, 9.58528252e-01],\n",
       "       [2.04271206e-04, 4.40640504e-08, 9.99795685e-01],\n",
       "       [2.79246326e-05, 5.15794552e-10, 9.99972075e-01],\n",
       "       [4.69344088e-10, 6.59848612e-05, 9.99934015e-01],\n",
       "       [2.46596091e-12, 5.33337709e-10, 9.99999999e-01],\n",
       "       [2.06601780e-02, 8.41672601e-06, 9.79331405e-01],\n",
       "       [2.10830074e-23, 2.76178785e-27, 1.00000000e+00],\n",
       "       [9.54024911e-06, 8.71967582e-06, 9.99981740e-01],\n",
       "       [5.45649191e-03, 5.84671368e-05, 9.94485041e-01],\n",
       "       [3.69844890e-05, 3.21615472e-09, 9.99963012e-01],\n",
       "       [1.35513619e-20, 9.22723789e-12, 1.00000000e+00],\n",
       "       [4.19130155e-05, 1.74145888e-07, 9.99957913e-01],\n",
       "       [1.54911516e-02, 4.27797709e-03, 9.80230871e-01],\n",
       "       [5.83908009e-10, 4.30072555e-12, 9.99999999e-01],\n",
       "       [5.26084164e-04, 9.63574202e-06, 9.99464280e-01],\n",
       "       [4.77635934e-11, 6.50762139e-06, 9.99993492e-01],\n",
       "       [6.46977290e-20, 3.91623280e-07, 9.99999608e-01],\n",
       "       [4.62415647e-13, 1.92377414e-05, 9.99980762e-01],\n",
       "       [3.98369698e-28, 1.73696722e-06, 9.99998263e-01],\n",
       "       [2.09918088e-13, 5.77734995e-05, 9.99942227e-01],\n",
       "       [3.45290603e-07, 5.88950535e-14, 9.99999655e-01],\n",
       "       [2.05886380e-06, 2.14986393e-07, 9.99997726e-01],\n",
       "       [2.08125786e-01, 9.55428412e-06, 7.91864660e-01],\n",
       "       [1.09597972e-06, 1.72228396e-03, 9.98276620e-01],\n",
       "       [8.18415034e-07, 1.13841409e-11, 9.99999182e-01],\n",
       "       [6.04748336e-11, 2.60515908e-12, 1.00000000e+00],\n",
       "       [1.14992824e-15, 1.08413342e-07, 9.99999892e-01],\n",
       "       [2.09415581e-03, 5.95590396e-08, 9.97905785e-01],\n",
       "       [5.32261765e-03, 2.95177299e-05, 9.94647865e-01],\n",
       "       [1.29092265e-05, 4.32753669e-08, 9.99987047e-01],\n",
       "       [2.91768497e-04, 3.27347097e-07, 9.99707904e-01],\n",
       "       [1.98372713e-21, 5.79741497e-01, 4.20258503e-01],\n",
       "       [1.39164094e-06, 3.34941823e-07, 9.99998273e-01],\n",
       "       [1.45613635e-05, 1.71903139e-07, 9.99985267e-01],\n",
       "       [2.32893817e-13, 5.14972068e-12, 1.00000000e+00],\n",
       "       [5.04430233e-15, 1.45282477e-08, 9.99999985e-01],\n",
       "       [1.97792648e-08, 1.66772675e-06, 9.99998312e-01],\n",
       "       [3.53389977e-08, 2.28287800e-02, 9.77171185e-01],\n",
       "       [8.02315113e-09, 1.99002425e-09, 9.99999990e-01],\n",
       "       [8.46120162e-25, 2.78257957e-36, 1.00000000e+00],\n",
       "       [2.95479515e-11, 3.52895729e-04, 9.99647104e-01],\n",
       "       [4.92592095e-11, 3.25317232e-04, 9.99674683e-01],\n",
       "       [6.93193340e-01, 1.25862207e-03, 3.05548038e-01],\n",
       "       [8.21861501e-12, 1.30759803e-07, 9.99999869e-01],\n",
       "       [3.05476163e-16, 2.57708686e-02, 9.74229131e-01],\n",
       "       [8.75466442e-08, 1.79643567e-10, 9.99999912e-01],\n",
       "       [7.89629547e-01, 3.82671165e-04, 2.09987781e-01],\n",
       "       [1.70061294e-11, 8.21596138e-02, 9.17840386e-01],\n",
       "       [2.92129264e-14, 1.99349235e-04, 9.99800651e-01],\n",
       "       [1.60595277e-05, 4.77913848e-05, 9.99936149e-01],\n",
       "       [3.51962260e-20, 3.71674879e-23, 1.00000000e+00],\n",
       "       [7.39104090e-07, 8.14863782e-11, 9.99999261e-01],\n",
       "       [9.12988186e-01, 2.02218752e-03, 8.49896267e-02]])"
      ]
     },
     "execution_count": 18,
     "metadata": {},
     "output_type": "execute_result"
    }
   ],
   "source": [
    "model.predict_proba(df[['x', 'y']])"
   ]
  },
  {
   "cell_type": "markdown",
   "id": "511f1fa3",
   "metadata": {},
   "source": [
    "# GMMを実装する"
   ]
  },
  {
   "cell_type": "code",
   "execution_count": 67,
   "id": "733b7d55",
   "metadata": {},
   "outputs": [],
   "source": [
    "import sklearn.cluster as cluster"
   ]
  },
  {
   "cell_type": "code",
   "execution_count": 68,
   "id": "dbf982c6",
   "metadata": {},
   "outputs": [],
   "source": [
    "n_samples = len(df)"
   ]
  },
  {
   "cell_type": "code",
   "execution_count": 69,
   "id": "083a8d0f",
   "metadata": {},
   "outputs": [],
   "source": [
    "n_components = 3\n",
    "random_state = 0"
   ]
  },
  {
   "cell_type": "code",
   "execution_count": 78,
   "id": "680b59ab",
   "metadata": {},
   "outputs": [],
   "source": [
    "X = df[['x', 'y']]"
   ]
  },
  {
   "cell_type": "markdown",
   "id": "7b3b6988",
   "metadata": {},
   "source": [
    "# Initialize"
   ]
  },
  {
   "cell_type": "code",
   "execution_count": 79,
   "id": "ec9ba994",
   "metadata": {},
   "outputs": [],
   "source": [
    "reg_covar = 1e-6\n",
    "covariance_type = 'full'"
   ]
  },
  {
   "cell_type": "code",
   "execution_count": 80,
   "id": "bdeb4298",
   "metadata": {},
   "outputs": [],
   "source": [
    "resp = np.zeros((n_samples, n_components))\n",
    "label = (\n",
    "    cluster.KMeans(\n",
    "        n_clusters=n_components, n_init=1, random_state=random_state\n",
    "    )\n",
    "    .fit(X)\n",
    "    .labels_\n",
    ")\n",
    "resp[np.arange(n_samples), label] = 1"
   ]
  },
  {
   "cell_type": "code",
   "execution_count": 101,
   "id": "2ceb4bf0",
   "metadata": {},
   "outputs": [],
   "source": [
    "def _estimate_gaussian_parameters(X, resp, reg_covar, covariance_type):\n",
    "    nk = resp.sum(axis=0) + 10 * np.finfo(resp.dtype).eps # コンポーネントごとに何サンプルずつ分類されてるか\n",
    "    means = np.dot(resp.T, X) / nk[:, np.newaxis] # kmeansで振ったラベルごとに平均値を求めてそれを初期パラメータにする\n",
    "    covariances = _estimate_gaussian_covariances_full(resp, X, nk, means, reg_covar)\n",
    "    return nk, means, covariances"
   ]
  },
  {
   "cell_type": "code",
   "execution_count": 102,
   "id": "f2527c20",
   "metadata": {},
   "outputs": [],
   "source": [
    "def _estimate_gaussian_covariances_full(resp, X, nk, means, reg_covar):\n",
    "    n_components, n_features = means.shape\n",
    "    covariances = np.empty((n_components, n_features, n_features))\n",
    "    for k in range(n_components):\n",
    "        diff = X - means[k]\n",
    "        covariances[k] = np.dot(resp[:, k] * diff.T, diff) / nk[k] # 分散を定義通りに計算\n",
    "        covariances[k].flat[:: n_features + 1] += reg_covar\n",
    "    return covariances"
   ]
  },
  {
   "cell_type": "code",
   "execution_count": 105,
   "id": "b842e141",
   "metadata": {},
   "outputs": [],
   "source": [
    "weights, means, covariances = _estimate_gaussian_parameters(\n",
    "    X, resp, reg_covar, covariance_type\n",
    ")\n",
    "weights /= n_samples"
   ]
  },
  {
   "cell_type": "code",
   "execution_count": 106,
   "id": "61077052",
   "metadata": {
    "scrolled": true
   },
   "outputs": [
    {
     "data": {
      "text/plain": [
       "array([0.44      , 0.27333333, 0.28666667])"
      ]
     },
     "execution_count": 106,
     "metadata": {},
     "output_type": "execute_result"
    }
   ],
   "source": [
    "weights"
   ]
  },
  {
   "cell_type": "markdown",
   "id": "fb526167",
   "metadata": {},
   "source": [
    "# E step\n",
    "- Q関数を計算"
   ]
  }
 ],
 "metadata": {
  "kernelspec": {
   "display_name": "Python 3 (ipykernel)",
   "language": "python",
   "name": "python3"
  },
  "language_info": {
   "codemirror_mode": {
    "name": "ipython",
    "version": 3
   },
   "file_extension": ".py",
   "mimetype": "text/x-python",
   "name": "python",
   "nbconvert_exporter": "python",
   "pygments_lexer": "ipython3",
   "version": "3.9.11"
  }
 },
 "nbformat": 4,
 "nbformat_minor": 5
}
