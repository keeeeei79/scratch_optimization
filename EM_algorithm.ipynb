{
 "cells": [
  {
   "cell_type": "markdown",
   "id": "9fa94772",
   "metadata": {},
   "source": [
    "# Reference\n",
    "- https://www.youtube.com/watch?v=W8DJlpOOs0U\n",
    "- https://qiita.com/kenmatsu4/items/59ea3e5dfa3d4c161efb"
   ]
  },
  {
   "cell_type": "markdown",
   "id": "4dcd2d4e",
   "metadata": {},
   "source": [
    "# Jensenの不等式\n",
    "- 上に凸の関数なのか下に凸の関数なのかで不等号の向きが変わるので注意\n",
    "- ここでは対数尤度関数を考えるので上に凸の関数の場合は記述する\n",
    "$$\n",
    "    f(\\sum_i \\lambda_i x_i) \\ge \\sum_i \\lambda_i f(x_i)\n",
    "$$"
   ]
  },
  {
   "cell_type": "markdown",
   "id": "9a8332e1",
   "metadata": {},
   "source": [
    "# EMアルゴリズム\n",
    "- EMアルゴリズムは観測不可能な潜在変数にモデルが依存する場合の最尤推定の計算方法の1つ\n",
    "- 各変数の定義は以下\n",
    "$$\n",
    "    X: 観測変数, Z: 潜在変数, \\theta: パラメータ, 対数尤度関数(LL) : \\ln p(x|\\theta)\n",
    "$$"
   ]
  },
  {
   "cell_type": "markdown",
   "id": "2d5d2370",
   "metadata": {},
   "source": [
    "LLに潜在変数を導入する。\n",
    "$$\n",
    "    LL = \\log \\sum_z p(X,Z|\\theta)\n",
    "$$\n",
    "ここに潜在変数についての分布q(Z)を導入し、LLを変分下限とKLに分解できるようにする。変分下限($L(q, \\theta)$)はイェンセンの不等式から導出する。\n",
    "\n",
    "$$\n",
    "    \\log \\sum_z p(X,Z|\\theta) = \\log \\sum_Z q(Z) \\frac{p(X, Z| \\theta)}{q(Z)} \\ge \\sum_Z q(Z) \\log \\frac{p(X, Z| \\theta)}{q(Z)} = L(q, \\theta)\n",
    "$$"
   ]
  },
  {
   "cell_type": "markdown",
   "id": "2d3654e1",
   "metadata": {},
   "source": [
    "次にLLと変分下限の差を計算するとLLと変分下限の差がカルバックライブラー情報量になってることがわかる\n",
    "$$\n",
    "    LL - L(q, \\theta) = \\log p(X|\\theta) - \\sum_Z q(Z) \\log \\frac{p(X, Z| \\theta)}{q(Z)} \\\\\n",
    "    = \\log p(X|\\theta) \\sum_Z q(Z) - \\sum_Z q(Z) \\log \\frac{p(Z|X, \\theta)p(X|\\theta)}{q(Z)} \\\\\n",
    "    = \\sum_Z q(Z) \\log p(X|\\theta)  - \\sum_Z q(Z) \\log \\frac{p(Z|X, \\theta)p(X|\\theta)}{q(Z)} \\\\\n",
    "    = \\sum_Z q(Z) \\log \\frac{p(Z|X, \\theta)}{q(Z)} = KL(q, p)\n",
    "$$"
   ]
  },
  {
   "cell_type": "markdown",
   "id": "6aa25029",
   "metadata": {},
   "source": [
    "よって対数尤度は変分下限とKLの和に分解できることがわかる\n",
    "$$\n",
    "    LL = L(q, \\theta) + KL(q, p)\n",
    "$$"
   ]
  },
  {
   "cell_type": "markdown",
   "id": "ff3552c5",
   "metadata": {},
   "source": [
    "EMアルゴリズムではEステップで$\\theta$を固定し$KL(q,p)=0$となる$q(Z)$を求め、Mステップで$q(Z)$を固定して変分下限$L(q, \\theta)$を最大化する$\\theta$を求める"
   ]
  },
  {
   "cell_type": "markdown",
   "id": "c9881ab7",
   "metadata": {},
   "source": [
    "Eステップ: $KL(q, p)= 0$ となるのは$q=p$となる時なので\n",
    "$$\n",
    "    q(Z) = p(Z|X, \\theta^{old})\n",
    "$$"
   ]
  },
  {
   "cell_type": "markdown",
   "id": "b8610b39",
   "metadata": {},
   "source": [
    "Mステップ: Eステップで求めた$q(Z)$を使って変分下限を最大化する$\\theta$を求める\n",
    "$$\n",
    "    L(q, \\theta) = \\sum_Z q(Z) \\log \\frac{p(X, Z| \\theta)}{q(Z)} = \\sum_Z p(Z|X, \\theta^{old}) \\log \\frac{p(X, Z| \\theta)}{p(Z|X, \\theta^{old})} \\\\\n",
    "    = \\sum_Z p(Z|X, \\theta^{old}) \\log p(X, Z| \\theta) - p(Z|X, \\theta^{old})p(Z|X, \\theta^{old}) \n",
    "$$\n",
    "ここで$p(Z|X, \\theta^{old})p(Z|X, \\theta^{old})$は定数なのでconstとする。\n",
    "$$\n",
    "    = \\sum_Z p(Z|X, \\theta^{old}) \\log p(X, Z| \\theta) + const = Q(\\theta, \\theta^{old}) + const\n",
    "$$"
   ]
  },
  {
   "cell_type": "markdown",
   "id": "fe5b7c5c",
   "metadata": {},
   "source": [
    "あとはここで定義した$Q(\\theta, \\theta^{old})$を最大化する$\\theta$を求める。(EMアルゴリズムでは$p(X, Z| \\theta)$は最適化可能と仮定する)"
   ]
  },
  {
   "cell_type": "markdown",
   "id": "f882fb2b",
   "metadata": {},
   "source": [
    "# 実際にGMMを計算式に従って実装する\n",
    "- GMMはデータが複数の正規分布のうち1つから生成されたと仮定する\n",
    "- 複数の正規分布のうちどれだったかを示す潜在変数がZとして定義される\n",
    "$$\n",
    "   p(z_k=1)=\\pi_k,  p(x|\\theta) = \\sum_z p(z)p(x|z, \\theta) = \\sum_z \\Pi_k^K(\\pi_k N(\\mu_k, \\Sigma_k))^{z_k} = \\sum_k^K \\pi_k N(\\mu_k, \\Sigma_k)\n",
    "$$"
   ]
  },
  {
   "cell_type": "markdown",
   "id": "182648e1",
   "metadata": {},
   "source": [
    "上より対数尤度関数LLは以下になる\n",
    "$$\n",
    "    LL = \\log p(X|\\theta) = \\sum_n^N \\log (\\sum_k^K \\pi_k N(\\mu_k, \\Sigma_k))\n",
    "$$"
   ]
  },
  {
   "cell_type": "markdown",
   "id": "2095e4e1",
   "metadata": {},
   "source": [
    "Eステップ: $p(Z| X, \\theta)$を求めてQ関数を特定する\n",
    "$$\n",
    "    p(Z| X, \\theta) = \\frac{p(X, Z|\\theta)}{p(X| \\theta)} \\\\\n",
    "$$\n",
    "$$\n",
    "    p(X, Z|\\theta) = \\Pi_n^N p(x_n, z_n|\\theta) = \\Pi_n^N \\Pi_k^K (\\pi_k N(\\mu_k, \\Sigma_k))^{z_{nk}}\n",
    "$$\n",
    "$$\n",
    "    p(X |\\theta) = \\Pi_n^N \\sum_k^K \\pi_k N(\\mu_k, \\Sigma_k)\n",
    "$$"
   ]
  },
  {
   "cell_type": "markdown",
   "id": "7f13ae49",
   "metadata": {},
   "source": [
    "上の式より$p(Z| X, \\theta)$が求まる"
   ]
  },
  {
   "cell_type": "markdown",
   "id": "7dcc63c2",
   "metadata": {},
   "source": [
    "Q関数は$\\sum_Z p(Z|X,\\theta^{old}) \\log p(X,Z|\\theta)$なので$\\log p(X,Z|\\theta)$を$p(Z|X,\\theta^{old})$で重み付けしたものになる。\n",
    "$$\n",
    "    \\log p(X,Z|\\theta) = \\sum_n^N \\sum_k^K z_{nk}(\\log \\pi_k + \\log N(\\mu_k, \\Sigma_k))\n",
    "$$"
   ]
  },
  {
   "cell_type": "markdown",
   "id": "f1b1018e",
   "metadata": {},
   "source": [
    "$\\sum_Z p(Z|X,\\theta^{old}) $はZに関する期待値になるので$z_{nk}$について計算する\n",
    "$$\n",
    "    \\sum_Z p(Z|X,\\theta^{old}) z_{nk} = \\sum_Z \\frac{\\Pi_k^K (\\pi_k N(\\mu_k, \\Sigma_k))^{z_{nk}}}{\\sum_k^K \\pi_k N(\\mu_k, \\Sigma_k)} z_{nk} = \\frac{\\pi_k N(\\mu_k, \\Sigma_k))}{\\sum_k^K \\pi_k N(\\mu_k, \\Sigma_k)} = \\gamma(z_{nk})\n",
    "$$\n",
    "よって\n",
    "$$\n",
    "    Q = \\sum_n^N \\sum_k^K \\gamma(z_{nk}) (\\log \\pi_k + \\log N(\\mu_k, \\Sigma_k))\n",
    "$$"
   ]
  },
  {
   "cell_type": "markdown",
   "id": "043a1951",
   "metadata": {},
   "source": [
    "Mステップ: Q関数を$\\mu_k, \\Sigma_k, \\pi_k$で偏微分をして最適なパラメータを求める\n",
    "$$\n",
    "    \\frac{dQ}{d\\mu_k} = \\sum_n^N \\gamma(z_{nk}) \\frac{\\log N(\\mu_k, \\Sigma_k)}{d\\mu_k} = 0を解くと\n",
    "$$\n",
    "$$\n",
    "    \\mu_k = \\frac{1}{N_k} \\sum_n^N \\gamma(z_{nk})x_n, (N_k = \\sum_n^N \\gamma(z_{nk}))\n",
    "$$\n",
    "同様にして$\\Sigma_k, \\pi_k$も計算する"
   ]
  },
  {
   "cell_type": "markdown",
   "id": "493aacf2",
   "metadata": {},
   "source": [
    "- 1つのデータに対する確率なのか、データ全体が同時に起こる確率なのかを意識しないと混乱するので注意"
   ]
  },
  {
   "cell_type": "markdown",
   "id": "8006c4a4",
   "metadata": {},
   "source": [
    "# 実際にデータを生成する"
   ]
  },
  {
   "cell_type": "code",
   "execution_count": 39,
   "id": "13925914",
   "metadata": {},
   "outputs": [],
   "source": [
    "import numpy as np\n",
    "import pandas as pd\n",
    "import matplotlib.pyplot as plt"
   ]
  },
  {
   "cell_type": "code",
   "execution_count": 34,
   "id": "f9d45012",
   "metadata": {},
   "outputs": [],
   "source": [
    "a_x = np.random.normal(0, 3, 100)\n",
    "b_x = np.random.normal(5, 2, 100)\n",
    "c_x = np.random.normal(-8, 5, 100)"
   ]
  },
  {
   "cell_type": "code",
   "execution_count": 35,
   "id": "8b6edb3b",
   "metadata": {},
   "outputs": [],
   "source": [
    "a_y = np.random.normal(0, 3, 100)\n",
    "b_y = np.random.normal(5, 2, 100)\n",
    "c_y = np.random.normal(8, 5, 100)"
   ]
  },
  {
   "cell_type": "code",
   "execution_count": 36,
   "id": "88c9da11",
   "metadata": {},
   "outputs": [],
   "source": [
    "all_x = np.concatenate([a_x, b_x, c_x])\n",
    "all_y = np.concatenate([a_y, b_y, c_y])"
   ]
  },
  {
   "cell_type": "code",
   "execution_count": 37,
   "id": "e3942678",
   "metadata": {},
   "outputs": [
    {
     "data": {
      "text/plain": [
       "<matplotlib.collections.PathCollection at 0x10f1ae790>"
      ]
     },
     "execution_count": 37,
     "metadata": {},
     "output_type": "execute_result"
    },
    {
     "data": {
      "image/png": "[encoded data removed]",
      "text/plain": [
       "<Figure size 432x288 with 1 Axes>"
      ]
     },
     "metadata": {
      "needs_background": "light"
     },
     "output_type": "display_data"
    }
   ],
   "source": [
    "plt.scatter(all_x, all_y)"
   ]
  },
  {
   "cell_type": "code",
   "execution_count": 38,
   "id": "df3d0f6a",
   "metadata": {},
   "outputs": [
    {
     "data": {
      "text/plain": [
       "<matplotlib.collections.PathCollection at 0x10f2208b0>"
      ]
     },
     "execution_count": 38,
     "metadata": {},
     "output_type": "execute_result"
    },
    {
     "data": {
      "image/png": "[encoded data removed]",
      "text/plain": [
       "<Figure size 432x288 with 1 Axes>"
      ]
     },
     "metadata": {
      "needs_background": "light"
     },
     "output_type": "display_data"
    }
   ],
   "source": [
    "plt.scatter(a_x, a_y)\n",
    "plt.scatter(b_x, b_y)\n",
    "plt.scatter(c_x, c_y)"
   ]
  },
  {
   "cell_type": "code",
   "execution_count": 45,
   "id": "41201c27",
   "metadata": {},
   "outputs": [],
   "source": [
    "df = pd.DataFrame(zip(all_x, all_y), columns=['x', 'y'])\n",
    "df['label'] = ['a']*len(a_x) + ['b']*len(b_x) + ['c']*len(c_x)"
   ]
  },
  {
   "cell_type": "code",
   "execution_count": 46,
   "id": "50375eaa",
   "metadata": {},
   "outputs": [],
   "source": [
    "from sklearn.mixture import GaussianMixture"
   ]
  },
  {
   "cell_type": "code",
   "execution_count": 47,
   "id": "7207249d",
   "metadata": {},
   "outputs": [],
   "source": [
    "model = GaussianMixture(n_components=3, random_state=0)"
   ]
  },
  {
   "cell_type": "code",
   "execution_count": 49,
   "id": "6fd6aa99",
   "metadata": {},
   "outputs": [
    {
     "data": {
      "text/html": [
       "<style>#sk-container-id-1 {color: black;background-color: white;}#sk-container-id-1 pre{padding: 0;}#sk-container-id-1 div.sk-toggleable {background-color: white;}#sk-container-id-1 label.sk-toggleable__label {cursor: pointer;display: block;width: 100%;margin-bottom: 0;padding: 0.3em;box-sizing: border-box;text-align: center;}#sk-container-id-1 label.sk-toggleable__label-arrow:before {content: \"▸\";float: left;margin-right: 0.25em;color: #696969;}#sk-container-id-1 label.sk-toggleable__label-arrow:hover:before {color: black;}#sk-container-id-1 div.sk-estimator:hover label.sk-toggleable__label-arrow:before {color: black;}#sk-container-id-1 div.sk-toggleable__content {max-height: 0;max-width: 0;overflow: hidden;text-align: left;background-color: #f0f8ff;}#sk-container-id-1 div.sk-toggleable__content pre {margin: 0.2em;color: black;border-radius: 0.25em;background-color: #f0f8ff;}#sk-container-id-1 input.sk-toggleable__control:checked~div.sk-toggleable__content {max-height: 200px;max-width: 100%;overflow: auto;}#sk-container-id-1 input.sk-toggleable__control:checked~label.sk-toggleable__label-arrow:before {content: \"▾\";}#sk-container-id-1 div.sk-estimator input.sk-toggleable__control:checked~label.sk-toggleable__label {background-color: #d4ebff;}#sk-container-id-1 div.sk-label input.sk-toggleable__control:checked~label.sk-toggleable__label {background-color: #d4ebff;}#sk-container-id-1 input.sk-hidden--visually {border: 0;clip: rect(1px 1px 1px 1px);clip: rect(1px, 1px, 1px, 1px);height: 1px;margin: -1px;overflow: hidden;padding: 0;position: absolute;width: 1px;}#sk-container-id-1 div.sk-estimator {font-family: monospace;background-color: #f0f8ff;border: 1px dotted black;border-radius: 0.25em;box-sizing: border-box;margin-bottom: 0.5em;}#sk-container-id-1 div.sk-estimator:hover {background-color: #d4ebff;}#sk-container-id-1 div.sk-parallel-item::after {content: \"\";width: 100%;border-bottom: 1px solid gray;flex-grow: 1;}#sk-container-id-1 div.sk-label:hover label.sk-toggleable__label {background-color: #d4ebff;}#sk-container-id-1 div.sk-serial::before {content: \"\";position: absolute;border-left: 1px solid gray;box-sizing: border-box;top: 0;bottom: 0;left: 50%;z-index: 0;}#sk-container-id-1 div.sk-serial {display: flex;flex-direction: column;align-items: center;background-color: white;padding-right: 0.2em;padding-left: 0.2em;position: relative;}#sk-container-id-1 div.sk-item {position: relative;z-index: 1;}#sk-container-id-1 div.sk-parallel {display: flex;align-items: stretch;justify-content: center;background-color: white;position: relative;}#sk-container-id-1 div.sk-item::before, #sk-container-id-1 div.sk-parallel-item::before {content: \"\";position: absolute;border-left: 1px solid gray;box-sizing: border-box;top: 0;bottom: 0;left: 50%;z-index: -1;}#sk-container-id-1 div.sk-parallel-item {display: flex;flex-direction: column;z-index: 1;position: relative;background-color: white;}#sk-container-id-1 div.sk-parallel-item:first-child::after {align-self: flex-end;width: 50%;}#sk-container-id-1 div.sk-parallel-item:last-child::after {align-self: flex-start;width: 50%;}#sk-container-id-1 div.sk-parallel-item:only-child::after {width: 0;}#sk-container-id-1 div.sk-dashed-wrapped {border: 1px dashed gray;margin: 0 0.4em 0.5em 0.4em;box-sizing: border-box;padding-bottom: 0.4em;background-color: white;}#sk-container-id-1 div.sk-label label {font-family: monospace;font-weight: bold;display: inline-block;line-height: 1.2em;}#sk-container-id-1 div.sk-label-container {text-align: center;}#sk-container-id-1 div.sk-container {/* jupyter's `normalize.less` sets `[hidden] { display: none; }` but bootstrap.min.css set `[hidden] { display: none !important; }` so we also need the `!important` here to be able to override the default hidden behavior on the sphinx rendered scikit-learn.org. See: https://github.com/scikit-learn/scikit-learn/issues/21755 */display: inline-block !important;position: relative;}#sk-container-id-1 div.sk-text-repr-fallback {display: none;}</style><div id=\"sk-container-id-1\" class=\"sk-top-container\"><div class=\"sk-text-repr-fallback\"><pre>GaussianMixture(n_components=3, random_state=0)</pre><b>In a Jupyter environment, please rerun this cell to show the HTML representation or trust the notebook. <br />On GitHub, the HTML representation is unable to render, please try loading this page with nbviewer.org.</b></div><div class=\"sk-container\" hidden><div class=\"sk-item\"><div class=\"sk-estimator sk-toggleable\"><input class=\"sk-toggleable__control sk-hidden--visually\" id=\"sk-estimator-id-1\" type=\"checkbox\" checked><label for=\"sk-estimator-id-1\" class=\"sk-toggleable__label sk-toggleable__label-arrow\">GaussianMixture</label><div class=\"sk-toggleable__content\"><pre>GaussianMixture(n_components=3, random_state=0)</pre></div></div></div></div></div>"
      ],
      "text/plain": [
       "GaussianMixture(n_components=3, random_state=0)"
      ]
     },
     "execution_count": 49,
     "metadata": {},
     "output_type": "execute_result"
    }
   ],
   "source": [
    "model.fit(df[['x', 'y']])"
   ]
  },
  {
   "cell_type": "code",
   "execution_count": 51,
   "id": "1ffd86c6",
   "metadata": {},
   "outputs": [
    {
     "data": {
      "text/plain": [
       "array([[ 4.08073544,  4.47221925],\n",
       "       [-7.7956289 ,  7.52749788],\n",
       "       [ 0.40590697, -0.70561448]])"
      ]
     },
     "execution_count": 51,
     "metadata": {},
     "output_type": "execute_result"
    }
   ],
   "source": [
    "model.means_"
   ]
  },
  {
   "cell_type": "code",
   "execution_count": 53,
   "id": "63081f61",
   "metadata": {},
   "outputs": [],
   "source": [
    "df['pred'] = model.predict(df[['x', 'y']])"
   ]
  },
  {
   "cell_type": "code",
   "execution_count": 59,
   "id": "c97c6430",
   "metadata": {},
   "outputs": [
    {
     "data": {
      "image/png": "[encoded data removed]",
      "text/plain": [
       "<Figure size 432x288 with 1 Axes>"
      ]
     },
     "metadata": {
      "needs_background": "light"
     },
     "output_type": "display_data"
    }
   ],
   "source": [
    "for i, d in df.groupby('pred'):\n",
    "    plt.scatter(d['x'], d['y'])"
   ]
  },
  {
   "cell_type": "markdown",
   "id": "511f1fa3",
   "metadata": {},
   "source": [
    "# GMMを実装する"
   ]
  },
  {
   "cell_type": "code",
   "execution_count": 67,
   "id": "733b7d55",
   "metadata": {},
   "outputs": [],
   "source": [
    "import sklearn.cluster as cluster"
   ]
  },
  {
   "cell_type": "code",
   "execution_count": 68,
   "id": "dbf982c6",
   "metadata": {},
   "outputs": [],
   "source": [
    "n_samples = len(df)"
   ]
  },
  {
   "cell_type": "code",
   "execution_count": 69,
   "id": "083a8d0f",
   "metadata": {},
   "outputs": [],
   "source": [
    "n_components = 3\n",
    "random_state = 0"
   ]
  },
  {
   "cell_type": "code",
   "execution_count": 78,
   "id": "680b59ab",
   "metadata": {},
   "outputs": [],
   "source": [
    "X = df[['x', 'y']]"
   ]
  },
  {
   "cell_type": "markdown",
   "id": "7b3b6988",
   "metadata": {},
   "source": [
    "# Initialize"
   ]
  },
  {
   "cell_type": "code",
   "execution_count": 79,
   "id": "ec9ba994",
   "metadata": {},
   "outputs": [],
   "source": [
    "reg_covar = 1e-6\n",
    "covariance_type = 'full'"
   ]
  },
  {
   "cell_type": "code",
   "execution_count": 80,
   "id": "bdeb4298",
   "metadata": {},
   "outputs": [],
   "source": [
    "resp = np.zeros((n_samples, n_components))\n",
    "label = (\n",
    "    cluster.KMeans(\n",
    "        n_clusters=n_components, n_init=1, random_state=random_state\n",
    "    )\n",
    "    .fit(X)\n",
    "    .labels_\n",
    ")\n",
    "resp[np.arange(n_samples), label] = 1"
   ]
  },
  {
   "cell_type": "code",
   "execution_count": 101,
   "id": "2ceb4bf0",
   "metadata": {},
   "outputs": [],
   "source": [
    "def _estimate_gaussian_parameters(X, resp, reg_covar, covariance_type):\n",
    "    nk = resp.sum(axis=0) + 10 * np.finfo(resp.dtype).eps # コンポーネントごとに何サンプルずつ分類されてるか\n",
    "    means = np.dot(resp.T, X) / nk[:, np.newaxis] # kmeansで振ったラベルごとに平均値を求めてそれを初期パラメータにする\n",
    "    covariances = _estimate_gaussian_covariances_full(resp, X, nk, means, reg_covar)\n",
    "    return nk, means, covariances"
   ]
  },
  {
   "cell_type": "code",
   "execution_count": 102,
   "id": "f2527c20",
   "metadata": {},
   "outputs": [],
   "source": [
    "def _estimate_gaussian_covariances_full(resp, X, nk, means, reg_covar):\n",
    "    n_components, n_features = means.shape\n",
    "    covariances = np.empty((n_components, n_features, n_features))\n",
    "    for k in range(n_components):\n",
    "        diff = X - means[k]\n",
    "        covariances[k] = np.dot(resp[:, k] * diff.T, diff) / nk[k] # 分散を定義通りに計算\n",
    "        covariances[k].flat[:: n_features + 1] += reg_covar\n",
    "    return covariances"
   ]
  },
  {
   "cell_type": "code",
   "execution_count": 105,
   "id": "b842e141",
   "metadata": {},
   "outputs": [],
   "source": [
    "weights, means, covariances = _estimate_gaussian_parameters(\n",
    "    X, resp, reg_covar, covariance_type\n",
    ")\n",
    "weights /= n_samples"
   ]
  },
  {
   "cell_type": "code",
   "execution_count": 106,
   "id": "61077052",
   "metadata": {
    "scrolled": true
   },
   "outputs": [
    {
     "data": {
      "text/plain": [
       "array([0.44      , 0.27333333, 0.28666667])"
      ]
     },
     "execution_count": 106,
     "metadata": {},
     "output_type": "execute_result"
    }
   ],
   "source": [
    "weights"
   ]
  },
  {
   "cell_type": "markdown",
   "id": "fb526167",
   "metadata": {},
   "source": [
    "# E step\n",
    "- Q関数を計算"
   ]
  },
  {
   "cell_type": "code",
   "execution_count": null,
   "id": "3695b32c",
   "metadata": {},
   "outputs": [],
   "source": []
  },
  {
   "cell_type": "code",
   "execution_count": null,
   "id": "6c8c5610",
   "metadata": {},
   "outputs": [],
   "source": []
  }
 ],
 "metadata": {
  "kernelspec": {
   "display_name": "Python 3 (ipykernel)",
   "language": "python",
   "name": "python3"
  },
  "language_info": {
   "codemirror_mode": {
    "name": "ipython",
    "version": 3
   },
   "file_extension": ".py",
   "mimetype": "text/x-python",
   "name": "python",
   "nbconvert_exporter": "python",
   "pygments_lexer": "ipython3",
   "version": "3.9.11"
  }
 },
 "nbformat": 4,
 "nbformat_minor": 5
}
