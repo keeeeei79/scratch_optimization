{
 "cells": [
  {
   "cell_type": "markdown",
   "id": "b0d44bc1",
   "metadata": {},
   "source": [
    "# Jensenの不等式\n",
    "- 上に凸の関数なのか下に凸の関数なのかで不等号の向きが変わるので注意\n",
    "- ここでは対数尤度関数を考えるので上に凸の関数の場合は記述する\n",
    "$$\n",
    "    f(\\sum_i \\lambda_i x_i) \\ge \\sum_i \\lambda_i f(x_i)\n",
    "$$"
   ]
  },
  {
   "cell_type": "markdown",
   "id": "89f5ae82",
   "metadata": {},
   "source": [
    "# EMアルゴリズム\n",
    "- EMアルゴリズムは観測不可能な潜在変数にモデルが依存する場合の最尤推定の計算方法の1つ\n",
    "- 各変数の定義は以下\n",
    "$$\n",
    "    X: 観測変数, Z: 潜在変数, \\theta: パラメータ, 対数尤度関数(LL) : \\ln p(x|\\theta)\n",
    "$$"
   ]
  },
  {
   "cell_type": "markdown",
   "id": "0089f113",
   "metadata": {},
   "source": [
    "LLに潜在変数を導入する。\n",
    "$$\n",
    "    LL = \\log \\sum_z p(X,Z|\\theta)\n",
    "$$\n",
    "ここに潜在変数についての分布q(Z)を導入し、LLを変分下限とKLに分解できるようにする。変分下限($L(q, \\theta)$)はイェンセンの不等式から導出する。\n",
    "\n",
    "$$\n",
    "    \\log \\sum_z p(X,Z|\\theta) = \\log \\sum_Z q(Z) \\frac{p(X, Z| \\theta)}{q(Z)} \\ge \\sum_Z q(Z) \\log \\frac{p(X, Z| \\theta)}{q(Z)} = L(q, \\theta)\n",
    "$$"
   ]
  },
  {
   "cell_type": "markdown",
   "id": "0be4e803",
   "metadata": {},
   "source": [
    "次にLLと変分下限の差を計算するとLLと変分下限の差がカルバックライブラー情報量になってることがわかる\n",
    "$$\n",
    "    LL - L(q, \\theta) = \\log p(X|\\theta) - \\sum_Z q(Z) \\log \\frac{p(X, Z| \\theta)}{q(Z)} \\\\\n",
    "    = \\log p(X|\\theta) \\sum_Z q(Z) - \\sum_Z q(Z) \\log \\frac{p(Z|X, \\theta)p(X|\\theta)}{q(Z)} \\\\\n",
    "    = \\sum_Z q(Z) \\log p(X|\\theta)  - \\sum_Z q(Z) \\log \\frac{p(Z|X, \\theta)p(X|\\theta)}{q(Z)} \\\\\n",
    "    = \\sum_Z q(Z) \\log \\frac{p(Z|X, \\theta)}{q(Z)} = KL(q, p)\n",
    "$$"
   ]
  },
  {
   "cell_type": "markdown",
   "id": "042749d3",
   "metadata": {},
   "source": [
    "よって対数尤度は変分下限とKLの和に分解できることがわかる\n",
    "$$\n",
    "    LL = L(q, \\theta) + KL(q, p)\n",
    "$$"
   ]
  },
  {
   "cell_type": "markdown",
   "id": "0cd6faa3",
   "metadata": {},
   "source": [
    "EMアルゴリズムではEステップで$\\theta$を固定し$KL(q,p)=0$となる$q(Z)$を求め、Mステップで$q(Z)$を固定して変分下限$L(q, \\theta)$を最大化する$\\theta$を求める"
   ]
  },
  {
   "cell_type": "markdown",
   "id": "1d6073e4",
   "metadata": {},
   "source": [
    "Eステップ: $KL(q, p)= 0$ となるのは$q=p$となる時なので\n",
    "$$\n",
    "    q(Z) = p(Z|X, \\theta^{old})\n",
    "$$"
   ]
  },
  {
   "cell_type": "markdown",
   "id": "5eecaca0",
   "metadata": {},
   "source": [
    "Mステップ: Eステップで求めた$q(Z)$を使って変分下限を最大化する$\\theta$を求める\n",
    "$$\n",
    "    L(q, \\theta) = \\sum_Z q(Z) \\log \\frac{p(X, Z| \\theta)}{q(Z)} = \\sum_Z p(Z|X, \\theta^{old}) \\log \\frac{p(X, Z| \\theta)}{p(Z|X, \\theta^{old})} \\\\\n",
    "    = \\sum_Z p(Z|X, \\theta^{old}) \\log p(X, Z| \\theta) - p(Z|X, \\theta^{old})p(Z|X, \\theta^{old}) \n",
    "$$\n",
    "ここで$p(Z|X, \\theta^{old})p(Z|X, \\theta^{old})$は定数なのでconstとする。\n",
    "$$\n",
    "    = \\sum_Z p(Z|X, \\theta^{old}) \\log p(X, Z| \\theta) + const = Q(\\theta, \\theta^{old}) + const\n",
    "$$"
   ]
  },
  {
   "cell_type": "markdown",
   "id": "ac413bd7",
   "metadata": {},
   "source": [
    "あとはここで定義した$Q(\\theta, \\theta^{old})$を最大化する$\\theta$を求める。(EMアルゴリズムでは$p(X, Z| \\theta)$は最適化可能と仮定する)"
   ]
  },
  {
   "cell_type": "markdown",
   "id": "f098a522",
   "metadata": {},
   "source": [
    "# 実際にGMMを計算式に従って実装する\n",
    "- GMMはデータが複数の正規分布のうち1つから生成されたと仮定する\n",
    "- 複数の正規分布のうちどれだったかを示す潜在変数がZとして定義される\n",
    "$$\n",
    "   p(z_k=1)=\\pi_k,  p(x|\\theta) = \\sum_z p(z)p(x|z, \\theta) = \\sum_z \\Pi_k^K(\\pi_k N(\\mu_k, \\Sigma_k))^{z_k} = \\sum_k^K \\pi_k N(\\mu_k, \\Sigma_k)\n",
    "$$"
   ]
  },
  {
   "cell_type": "markdown",
   "id": "f2446e6e",
   "metadata": {},
   "source": [
    "上より対数尤度関数LLは以下になる\n",
    "$$\n",
    "    LL = \\log p(X|\\theta) = \\sum_n^N \\log (\\sum_k^K \\pi_k N(\\mu_k, \\Sigma_k))\n",
    "$$"
   ]
  },
  {
   "cell_type": "markdown",
   "id": "b263a7a5",
   "metadata": {},
   "source": [
    "Eステップ: $p(Z| X, \\theta)$を求めてQ関数を特定する\n",
    "$$\n",
    "    p(Z| X, \\theta) = \\frac{p(X, Z|\\theta)}{p(X| \\theta)} \\\\\n",
    "$$\n",
    "$$\n",
    "    p(X, Z|\\theta) = \\Pi_n^N p(x_n, z_n|\\theta) = \\Pi_n^N \\Pi_k^K (\\pi_k N(\\mu_k, \\Sigma_k))^{z_{nk}}\n",
    "$$\n",
    "$$\n",
    "    p(X |\\theta) = \\Pi_n^N \\sum_k^K \\pi_k N(\\mu_k, \\Sigma_k)\n",
    "$$"
   ]
  },
  {
   "cell_type": "markdown",
   "id": "8a2f6211",
   "metadata": {},
   "source": [
    "上の式より$p(Z| X, \\theta)$が求まる"
   ]
  },
  {
   "cell_type": "markdown",
   "id": "176c683c",
   "metadata": {},
   "source": [
    "Q関数は$\\sum_Z p(Z|X,\\theta^{old}) \\log p(X,Z|\\theta)$なので$\\log p(X,Z|\\theta)$を$p(Z|X,\\theta^{old})$で重み付けしたものになる。\n",
    "$$\n",
    "    \\log p(X,Z|\\theta) = \\sum_n^N \\sum_k^K z_{nk}(\\log \\pi_k + \\log N(\\mu_k, \\Sigma_k))\n",
    "$$"
   ]
  },
  {
   "cell_type": "markdown",
   "id": "db8b6570",
   "metadata": {},
   "source": [
    "$\\sum_Z p(Z|X,\\theta^{old}) $はZに関する期待値になるので$z_{nk}$について計算する\n",
    "$$\n",
    "    \\sum_Z p(Z|X,\\theta^{old}) z_{nk} = \\sum_Z \\frac{\\Pi_k^K (\\pi_k N(\\mu_k, \\Sigma_k))^{z_{nk}}}{\\sum_k^K \\pi_k N(\\mu_k, \\Sigma_k)} z_{nk} = \\frac{\\pi_k N(\\mu_k, \\Sigma_k))}{\\sum_k^K \\pi_k N(\\mu_k, \\Sigma_k)} = \\gamma(z_{nk})\n",
    "$$\n",
    "よって\n",
    "$$\n",
    "    Q = \\sum_n^N \\sum_k^K \\gamma(z_{nk}) (\\log \\pi_k + \\log N(\\mu_k, \\Sigma_k))\n",
    "$$"
   ]
  },
  {
   "cell_type": "markdown",
   "id": "6703c261",
   "metadata": {},
   "source": [
    "Mステップ: Q関数を$\\mu_k, \\Sigma_k, \\pi_k$で偏微分をして最適なパラメータを求める\n",
    "$$\n",
    "    \\frac{dQ}{d\\mu_k} = \\sum_n^N \\gamma(z_{nk}) \\frac{\\log N(\\mu_k, \\Sigma_k)}{d\\mu_k} = 0を解くと\n",
    "$$\n",
    "$$\n",
    "    \\mu_k = \\frac{1}{N_k} \\sum_n^N \\gamma(z_{nk})x_n, (N_k = \\sum_n^N \\gamma(z_{nk}))\n",
    "$$"
   ]
  },
  {
   "cell_type": "code",
   "execution_count": null,
   "id": "74a1a0fb",
   "metadata": {},
   "outputs": [],
   "source": []
  }
 ],
 "metadata": {
  "kernelspec": {
   "display_name": "Python 3 (ipykernel)",
   "language": "python",
   "name": "python3"
  },
  "language_info": {
   "codemirror_mode": {
    "name": "ipython",
    "version": 3
   },
   "file_extension": ".py",
   "mimetype": "text/x-python",
   "name": "python",
   "nbconvert_exporter": "python",
   "pygments_lexer": "ipython3",
   "version": "3.9.11"
  }
 },
 "nbformat": 4,
 "nbformat_minor": 5
}
