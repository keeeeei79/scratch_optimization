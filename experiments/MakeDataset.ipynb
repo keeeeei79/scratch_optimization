{
 "cells": [
  {
   "cell_type": "code",
   "execution_count": 70,
   "id": "7dbec319",
   "metadata": {},
   "outputs": [],
   "source": [
    "import pandas as pd"
   ]
  },
  {
   "cell_type": "code",
   "execution_count": 88,
   "id": "2337dfe5",
   "metadata": {},
   "outputs": [],
   "source": [
    "raw_data = pd.read_csv('/Users/yagikei/Downloads/acquire-valued-shoppers-challenge/transactions.csv', chunksize=1000000)"
   ]
  },
  {
   "cell_type": "code",
   "execution_count": 112,
   "id": "bf4ffbfd",
   "metadata": {
    "scrolled": true
   },
   "outputs": [],
   "source": [
    "nuser = 0\n",
    "res_lis = []\n",
    "for d in raw_data:\n",
    "    orders = d[['id',  'date']].drop_duplicates()\n",
    "    filtered_orders = orders.loc[(orders['date'] >= '2013-01-01') & (orders['date'] <= '2013-04-30')]\n",
    "    user_flag = filtered_orders.groupby('id')['date'].min() <= '2013-03-31'\n",
    "    use_ids = user_flag[user_flag].index.tolist()\n",
    "    res = filtered_orders[filtered_orders['id'].isin(use_ids)]\n",
    "    res_lis.append(res)\n",
    "    nuser += res['id'].nunique()\n",
    "    if nuser > 100000:\n",
    "        break"
   ]
  },
  {
   "cell_type": "code",
   "execution_count": 114,
   "id": "fbe1dd15",
   "metadata": {
    "scrolled": true
   },
   "outputs": [],
   "source": [
    "df = pd.concat(res_lis)"
   ]
  },
  {
   "cell_type": "code",
   "execution_count": 115,
   "id": "488f65f0",
   "metadata": {
    "scrolled": true
   },
   "outputs": [
    {
     "data": {
      "text/plain": [
       "(2263577, 2)"
      ]
     },
     "execution_count": 115,
     "metadata": {},
     "output_type": "execute_result"
    }
   ],
   "source": [
    "df.shape"
   ]
  },
  {
   "cell_type": "code",
   "execution_count": 117,
   "id": "d7f384a3",
   "metadata": {},
   "outputs": [],
   "source": [
    "df.reset_index(drop=True).to_csv('sample_transactions.csv', index=False)"
   ]
  },
  {
   "cell_type": "code",
   "execution_count": null,
   "id": "27dd54db",
   "metadata": {},
   "outputs": [],
   "source": []
  }
 ],
 "metadata": {
  "kernelspec": {
   "display_name": "Python 3 (ipykernel)",
   "language": "python",
   "name": "python3"
  },
  "language_info": {
   "codemirror_mode": {
    "name": "ipython",
    "version": 3
   },
   "file_extension": ".py",
   "mimetype": "text/x-python",
   "name": "python",
   "nbconvert_exporter": "python",
   "pygments_lexer": "ipython3",
   "version": "3.9.11"
  }
 },
 "nbformat": 4,
 "nbformat_minor": 5
}
