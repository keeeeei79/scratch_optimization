{
 "cells": [
  {
   "cell_type": "markdown",
   "id": "39b1f8cf",
   "metadata": {},
   "source": [
    "# BG/NBDモデルと機械学習モデルで予測精度を比較する\n",
    "- 2013-01~2013/03までのデータをtrain, 2013/04をtestとする\n",
    "- 2013/04の取引量を各モデルで予測し、そのMSEによって評価する"
   ]
  },
  {
   "cell_type": "code",
   "execution_count": 1,
   "id": "4576ae40",
   "metadata": {},
   "outputs": [],
   "source": [
    "import pandas as pd\n",
    "import numpy as np\n",
    "from sklearn.metrics import mean_squared_error"
   ]
  },
  {
   "cell_type": "code",
   "execution_count": 2,
   "id": "f0a30d5e",
   "metadata": {},
   "outputs": [],
   "source": [
    "df = pd.read_csv('sample_transactions.csv')"
   ]
  },
  {
   "cell_type": "code",
   "execution_count": 3,
   "id": "817c841d",
   "metadata": {},
   "outputs": [],
   "source": [
    "df.index.name = 'transaction_id'\n",
    "df = df.reset_index()"
   ]
  },
  {
   "cell_type": "code",
   "execution_count": 4,
   "id": "d252b1a5",
   "metadata": {},
   "outputs": [],
   "source": [
    "df['date'] = pd.to_datetime(df['date'])"
   ]
  },
  {
   "cell_type": "code",
   "execution_count": 5,
   "id": "8fb4bb16",
   "metadata": {},
   "outputs": [
    {
     "data": {
      "text/html": [
       "<div>\n",
       "<style scoped>\n",
       "    .dataframe tbody tr th:only-of-type {\n",
       "        vertical-align: middle;\n",
       "    }\n",
       "\n",
       "    .dataframe tbody tr th {\n",
       "        vertical-align: top;\n",
       "    }\n",
       "\n",
       "    .dataframe thead th {\n",
       "        text-align: right;\n",
       "    }\n",
       "</style>\n",
       "<table border=\"1\" class=\"dataframe\">\n",
       "  <thead>\n",
       "    <tr style=\"text-align: right;\">\n",
       "      <th></th>\n",
       "      <th>transaction_id</th>\n",
       "      <th>id</th>\n",
       "      <th>date</th>\n",
       "    </tr>\n",
       "  </thead>\n",
       "  <tbody>\n",
       "    <tr>\n",
       "      <th>0</th>\n",
       "      <td>0</td>\n",
       "      <td>103121713</td>\n",
       "      <td>2013-03-06</td>\n",
       "    </tr>\n",
       "    <tr>\n",
       "      <th>1</th>\n",
       "      <td>1</td>\n",
       "      <td>103121713</td>\n",
       "      <td>2013-03-10</td>\n",
       "    </tr>\n",
       "    <tr>\n",
       "      <th>2</th>\n",
       "      <td>2</td>\n",
       "      <td>103121713</td>\n",
       "      <td>2013-03-12</td>\n",
       "    </tr>\n",
       "    <tr>\n",
       "      <th>3</th>\n",
       "      <td>3</td>\n",
       "      <td>103121713</td>\n",
       "      <td>2013-03-13</td>\n",
       "    </tr>\n",
       "    <tr>\n",
       "      <th>4</th>\n",
       "      <td>4</td>\n",
       "      <td>103121713</td>\n",
       "      <td>2013-03-15</td>\n",
       "    </tr>\n",
       "  </tbody>\n",
       "</table>\n",
       "</div>"
      ],
      "text/plain": [
       "   transaction_id         id       date\n",
       "0               0  103121713 2013-03-06\n",
       "1               1  103121713 2013-03-10\n",
       "2               2  103121713 2013-03-12\n",
       "3               3  103121713 2013-03-13\n",
       "4               4  103121713 2013-03-15"
      ]
     },
     "execution_count": 5,
     "metadata": {},
     "output_type": "execute_result"
    }
   ],
   "source": [
    "df.head()"
   ]
  },
  {
   "cell_type": "code",
   "execution_count": 6,
   "id": "518f3007",
   "metadata": {
    "scrolled": false
   },
   "outputs": [
    {
     "data": {
      "text/plain": [
       "100160"
      ]
     },
     "execution_count": 6,
     "metadata": {},
     "output_type": "execute_result"
    }
   ],
   "source": [
    "df['id'].nunique()"
   ]
  },
  {
   "cell_type": "markdown",
   "id": "a8096976",
   "metadata": {},
   "source": [
    "## BG/NBD"
   ]
  },
  {
   "cell_type": "code",
   "execution_count": 7,
   "id": "6677a9f7",
   "metadata": {},
   "outputs": [],
   "source": [
    "from lifetimes.utils import calibration_and_holdout_data\n",
    "from lifetimes.plotting import plot_calibration_purchases_vs_holdout_purchases"
   ]
  },
  {
   "cell_type": "code",
   "execution_count": 8,
   "id": "0f66941f",
   "metadata": {},
   "outputs": [
    {
     "data": {
      "text/html": [
       "<div>\n",
       "<style scoped>\n",
       "    .dataframe tbody tr th:only-of-type {\n",
       "        vertical-align: middle;\n",
       "    }\n",
       "\n",
       "    .dataframe tbody tr th {\n",
       "        vertical-align: top;\n",
       "    }\n",
       "\n",
       "    .dataframe thead th {\n",
       "        text-align: right;\n",
       "    }\n",
       "</style>\n",
       "<table border=\"1\" class=\"dataframe\">\n",
       "  <thead>\n",
       "    <tr style=\"text-align: right;\">\n",
       "      <th></th>\n",
       "      <th>frequency_cal</th>\n",
       "      <th>recency_cal</th>\n",
       "      <th>T_cal</th>\n",
       "      <th>frequency_holdout</th>\n",
       "      <th>duration_holdout</th>\n",
       "    </tr>\n",
       "    <tr>\n",
       "      <th>id</th>\n",
       "      <th></th>\n",
       "      <th></th>\n",
       "      <th></th>\n",
       "      <th></th>\n",
       "      <th></th>\n",
       "    </tr>\n",
       "  </thead>\n",
       "  <tbody>\n",
       "    <tr>\n",
       "      <th>103121713</th>\n",
       "      <td>12.0</td>\n",
       "      <td>23.0</td>\n",
       "      <td>25.0</td>\n",
       "      <td>15.0</td>\n",
       "      <td>30.0</td>\n",
       "    </tr>\n",
       "    <tr>\n",
       "      <th>103122875</th>\n",
       "      <td>35.0</td>\n",
       "      <td>86.0</td>\n",
       "      <td>88.0</td>\n",
       "      <td>12.0</td>\n",
       "      <td>30.0</td>\n",
       "    </tr>\n",
       "    <tr>\n",
       "      <th>103128329</th>\n",
       "      <td>12.0</td>\n",
       "      <td>78.0</td>\n",
       "      <td>85.0</td>\n",
       "      <td>0.0</td>\n",
       "      <td>30.0</td>\n",
       "    </tr>\n",
       "    <tr>\n",
       "      <th>103130069</th>\n",
       "      <td>41.0</td>\n",
       "      <td>81.0</td>\n",
       "      <td>89.0</td>\n",
       "      <td>0.0</td>\n",
       "      <td>30.0</td>\n",
       "    </tr>\n",
       "    <tr>\n",
       "      <th>103132791</th>\n",
       "      <td>10.0</td>\n",
       "      <td>78.0</td>\n",
       "      <td>86.0</td>\n",
       "      <td>0.0</td>\n",
       "      <td>30.0</td>\n",
       "    </tr>\n",
       "  </tbody>\n",
       "</table>\n",
       "</div>"
      ],
      "text/plain": [
       "           frequency_cal  recency_cal  T_cal  frequency_holdout  \\\n",
       "id                                                                \n",
       "103121713           12.0         23.0   25.0               15.0   \n",
       "103122875           35.0         86.0   88.0               12.0   \n",
       "103128329           12.0         78.0   85.0                0.0   \n",
       "103130069           41.0         81.0   89.0                0.0   \n",
       "103132791           10.0         78.0   86.0                0.0   \n",
       "\n",
       "           duration_holdout  \n",
       "id                           \n",
       "103121713              30.0  \n",
       "103122875              30.0  \n",
       "103128329              30.0  \n",
       "103130069              30.0  \n",
       "103132791              30.0  "
      ]
     },
     "execution_count": 8,
     "metadata": {},
     "output_type": "execute_result"
    }
   ],
   "source": [
    "summary_calib_holdout = calibration_and_holdout_data(df, 'id', 'date',\n",
    "                                                   calibration_period_end='2013-03-31',\n",
    "                                                   observation_period_end='2013-04-30',\n",
    "                                                   freq='D')\n",
    "summary_calib_holdout.head()"
   ]
  },
  {
   "cell_type": "code",
   "execution_count": 9,
   "id": "4fc541fb",
   "metadata": {},
   "outputs": [],
   "source": [
    "summary_calib_holdout = summary_calib_holdout[summary_calib_holdout['frequency_cal'] != 0].copy()"
   ]
  },
  {
   "cell_type": "code",
   "execution_count": 10,
   "id": "e357768c",
   "metadata": {},
   "outputs": [
    {
     "data": {
      "text/plain": [
       "<lifetimes.BetaGeoFitter: fitted with 99903 subjects, a: 0.00, alpha: 11.32, b: 0.40, r: 2.40>"
      ]
     },
     "execution_count": 10,
     "metadata": {},
     "output_type": "execute_result"
    }
   ],
   "source": [
    "from lifetimes import BetaGeoFitter\n",
    "\n",
    "# x,t_x,Tに対応するcolumnを指定してBG/NBDを実行\n",
    "bgf = BetaGeoFitter(penalizer_coef=0.01)\n",
    "bgf.fit(summary_calib_holdout.frequency_cal, summary_calib_holdout.recency_cal, summary_calib_holdout.T_cal)"
   ]
  },
  {
   "cell_type": "code",
   "execution_count": 11,
   "id": "780b826a",
   "metadata": {},
   "outputs": [
    {
     "data": {
      "text/html": [
       "<div>\n",
       "<style scoped>\n",
       "    .dataframe tbody tr th:only-of-type {\n",
       "        vertical-align: middle;\n",
       "    }\n",
       "\n",
       "    .dataframe tbody tr th {\n",
       "        vertical-align: top;\n",
       "    }\n",
       "\n",
       "    .dataframe thead th {\n",
       "        text-align: right;\n",
       "    }\n",
       "</style>\n",
       "<table border=\"1\" class=\"dataframe\">\n",
       "  <thead>\n",
       "    <tr style=\"text-align: right;\">\n",
       "      <th></th>\n",
       "      <th>coef</th>\n",
       "      <th>se(coef)</th>\n",
       "      <th>lower 95% bound</th>\n",
       "      <th>upper 95% bound</th>\n",
       "    </tr>\n",
       "  </thead>\n",
       "  <tbody>\n",
       "    <tr>\n",
       "      <th>r</th>\n",
       "      <td>2.402966</td>\n",
       "      <td>0.010136</td>\n",
       "      <td>2.383100</td>\n",
       "      <td>2.422832</td>\n",
       "    </tr>\n",
       "    <tr>\n",
       "      <th>alpha</th>\n",
       "      <td>11.319651</td>\n",
       "      <td>0.053603</td>\n",
       "      <td>11.214588</td>\n",
       "      <td>11.424713</td>\n",
       "    </tr>\n",
       "    <tr>\n",
       "      <th>a</th>\n",
       "      <td>0.001547</td>\n",
       "      <td>0.000126</td>\n",
       "      <td>0.001301</td>\n",
       "      <td>0.001794</td>\n",
       "    </tr>\n",
       "    <tr>\n",
       "      <th>b</th>\n",
       "      <td>0.398446</td>\n",
       "      <td>0.017708</td>\n",
       "      <td>0.363739</td>\n",
       "      <td>0.433154</td>\n",
       "    </tr>\n",
       "  </tbody>\n",
       "</table>\n",
       "</div>"
      ],
      "text/plain": [
       "            coef  se(coef)  lower 95% bound  upper 95% bound\n",
       "r       2.402966  0.010136         2.383100         2.422832\n",
       "alpha  11.319651  0.053603        11.214588        11.424713\n",
       "a       0.001547  0.000126         0.001301         0.001794\n",
       "b       0.398446  0.017708         0.363739         0.433154"
      ]
     },
     "execution_count": 11,
     "metadata": {},
     "output_type": "execute_result"
    }
   ],
   "source": [
    "bgf.summary"
   ]
  },
  {
   "cell_type": "code",
   "execution_count": 12,
   "id": "a45f9ef7",
   "metadata": {},
   "outputs": [
    {
     "data": {
      "text/plain": [
       "<AxesSubplot:title={'center':'Actual Purchases in Holdout Period vs Predicted Purchases'}, xlabel='Purchases in calibration period', ylabel='Average of Purchases in Holdout Period'>"
      ]
     },
     "execution_count": 12,
     "metadata": {},
     "output_type": "execute_result"
    },
    {
     "data": {
      "image/png": "[encoded data removed]",
      "text/plain": [
       "<Figure size 432x288 with 1 Axes>"
      ]
     },
     "metadata": {
      "needs_background": "light"
     },
     "output_type": "display_data"
    }
   ],
   "source": [
    "plot_calibration_purchases_vs_holdout_purchases(bgf, summary_calib_holdout, n=30)"
   ]
  },
  {
   "cell_type": "code",
   "execution_count": 13,
   "id": "8c036301",
   "metadata": {},
   "outputs": [
    {
     "data": {
      "text/plain": [
       "(99903, 5)"
      ]
     },
     "execution_count": 13,
     "metadata": {},
     "output_type": "execute_result"
    }
   ],
   "source": [
    "summary_calib_holdout.shape"
   ]
  },
  {
   "cell_type": "code",
   "execution_count": 14,
   "id": "8fc86a20",
   "metadata": {
    "scrolled": false
   },
   "outputs": [],
   "source": [
    "summary_calib_holdout['pred'] = bgf.predict(30, summary_calib_holdout.frequency_cal, summary_calib_holdout.recency_cal, summary_calib_holdout.T_cal)"
   ]
  },
  {
   "cell_type": "code",
   "execution_count": 15,
   "id": "9a2bdd4e",
   "metadata": {},
   "outputs": [
    {
     "data": {
      "text/plain": [
       "19.944267487870423"
      ]
     },
     "execution_count": 15,
     "metadata": {},
     "output_type": "execute_result"
    }
   ],
   "source": [
    "mean_squared_error(summary_calib_holdout['frequency_holdout'], summary_calib_holdout['pred'])"
   ]
  },
  {
   "cell_type": "code",
   "execution_count": 32,
   "id": "69c24afa",
   "metadata": {},
   "outputs": [
    {
     "data": {
      "text/html": [
       "<div>\n",
       "<style scoped>\n",
       "    .dataframe tbody tr th:only-of-type {\n",
       "        vertical-align: middle;\n",
       "    }\n",
       "\n",
       "    .dataframe tbody tr th {\n",
       "        vertical-align: top;\n",
       "    }\n",
       "\n",
       "    .dataframe thead th {\n",
       "        text-align: right;\n",
       "    }\n",
       "</style>\n",
       "<table border=\"1\" class=\"dataframe\">\n",
       "  <thead>\n",
       "    <tr style=\"text-align: right;\">\n",
       "      <th></th>\n",
       "      <th>frequency_cal</th>\n",
       "      <th>recency_cal</th>\n",
       "      <th>T_cal</th>\n",
       "      <th>frequency_holdout</th>\n",
       "      <th>duration_holdout</th>\n",
       "      <th>pred</th>\n",
       "    </tr>\n",
       "    <tr>\n",
       "      <th>id</th>\n",
       "      <th></th>\n",
       "      <th></th>\n",
       "      <th></th>\n",
       "      <th></th>\n",
       "      <th></th>\n",
       "      <th></th>\n",
       "    </tr>\n",
       "  </thead>\n",
       "  <tbody>\n",
       "    <tr>\n",
       "      <th>103121713</th>\n",
       "      <td>12.0</td>\n",
       "      <td>23.0</td>\n",
       "      <td>25.0</td>\n",
       "      <td>15.0</td>\n",
       "      <td>30.0</td>\n",
       "      <td>11.885918</td>\n",
       "    </tr>\n",
       "    <tr>\n",
       "      <th>103122875</th>\n",
       "      <td>35.0</td>\n",
       "      <td>86.0</td>\n",
       "      <td>88.0</td>\n",
       "      <td>12.0</td>\n",
       "      <td>30.0</td>\n",
       "      <td>11.294072</td>\n",
       "    </tr>\n",
       "    <tr>\n",
       "      <th>103128329</th>\n",
       "      <td>12.0</td>\n",
       "      <td>78.0</td>\n",
       "      <td>85.0</td>\n",
       "      <td>0.0</td>\n",
       "      <td>30.0</td>\n",
       "      <td>4.482987</td>\n",
       "    </tr>\n",
       "    <tr>\n",
       "      <th>103130069</th>\n",
       "      <td>41.0</td>\n",
       "      <td>81.0</td>\n",
       "      <td>89.0</td>\n",
       "      <td>0.0</td>\n",
       "      <td>30.0</td>\n",
       "      <td>12.958186</td>\n",
       "    </tr>\n",
       "    <tr>\n",
       "      <th>103132791</th>\n",
       "      <td>10.0</td>\n",
       "      <td>78.0</td>\n",
       "      <td>86.0</td>\n",
       "      <td>0.0</td>\n",
       "      <td>30.0</td>\n",
       "      <td>3.820500</td>\n",
       "    </tr>\n",
       "    <tr>\n",
       "      <th>103133367</th>\n",
       "      <td>14.0</td>\n",
       "      <td>82.0</td>\n",
       "      <td>82.0</td>\n",
       "      <td>5.0</td>\n",
       "      <td>30.0</td>\n",
       "      <td>5.271133</td>\n",
       "    </tr>\n",
       "    <tr>\n",
       "      <th>103134281</th>\n",
       "      <td>14.0</td>\n",
       "      <td>83.0</td>\n",
       "      <td>84.0</td>\n",
       "      <td>2.0</td>\n",
       "      <td>30.0</td>\n",
       "      <td>5.160447</td>\n",
       "    </tr>\n",
       "    <tr>\n",
       "      <th>103135918</th>\n",
       "      <td>3.0</td>\n",
       "      <td>70.0</td>\n",
       "      <td>71.0</td>\n",
       "      <td>1.0</td>\n",
       "      <td>30.0</td>\n",
       "      <td>1.966786</td>\n",
       "    </tr>\n",
       "    <tr>\n",
       "      <th>103139881</th>\n",
       "      <td>34.0</td>\n",
       "      <td>87.0</td>\n",
       "      <td>87.0</td>\n",
       "      <td>14.0</td>\n",
       "      <td>30.0</td>\n",
       "      <td>11.104441</td>\n",
       "    </tr>\n",
       "    <tr>\n",
       "      <th>103145245</th>\n",
       "      <td>14.0</td>\n",
       "      <td>85.0</td>\n",
       "      <td>86.0</td>\n",
       "      <td>7.0</td>\n",
       "      <td>30.0</td>\n",
       "      <td>5.054423</td>\n",
       "    </tr>\n",
       "    <tr>\n",
       "      <th>103147121</th>\n",
       "      <td>16.0</td>\n",
       "      <td>77.0</td>\n",
       "      <td>78.0</td>\n",
       "      <td>10.0</td>\n",
       "      <td>30.0</td>\n",
       "      <td>6.178593</td>\n",
       "    </tr>\n",
       "    <tr>\n",
       "      <th>103149842</th>\n",
       "      <td>11.0</td>\n",
       "      <td>84.0</td>\n",
       "      <td>84.0</td>\n",
       "      <td>3.0</td>\n",
       "      <td>30.0</td>\n",
       "      <td>4.216540</td>\n",
       "    </tr>\n",
       "    <tr>\n",
       "      <th>103152383</th>\n",
       "      <td>13.0</td>\n",
       "      <td>80.0</td>\n",
       "      <td>82.0</td>\n",
       "      <td>8.0</td>\n",
       "      <td>30.0</td>\n",
       "      <td>4.949474</td>\n",
       "    </tr>\n",
       "    <tr>\n",
       "      <th>103157696</th>\n",
       "      <td>7.0</td>\n",
       "      <td>56.0</td>\n",
       "      <td>78.0</td>\n",
       "      <td>0.0</td>\n",
       "      <td>30.0</td>\n",
       "      <td>3.146321</td>\n",
       "    </tr>\n",
       "    <tr>\n",
       "      <th>103158476</th>\n",
       "      <td>4.0</td>\n",
       "      <td>56.0</td>\n",
       "      <td>88.0</td>\n",
       "      <td>4.0</td>\n",
       "      <td>30.0</td>\n",
       "      <td>1.922825</td>\n",
       "    </tr>\n",
       "    <tr>\n",
       "      <th>103158552</th>\n",
       "      <td>18.0</td>\n",
       "      <td>84.0</td>\n",
       "      <td>87.0</td>\n",
       "      <td>5.0</td>\n",
       "      <td>30.0</td>\n",
       "      <td>6.222921</td>\n",
       "    </tr>\n",
       "    <tr>\n",
       "      <th>103161690</th>\n",
       "      <td>31.0</td>\n",
       "      <td>87.0</td>\n",
       "      <td>89.0</td>\n",
       "      <td>9.0</td>\n",
       "      <td>30.0</td>\n",
       "      <td>9.985670</td>\n",
       "    </tr>\n",
       "    <tr>\n",
       "      <th>103161963</th>\n",
       "      <td>43.0</td>\n",
       "      <td>87.0</td>\n",
       "      <td>89.0</td>\n",
       "      <td>21.0</td>\n",
       "      <td>30.0</td>\n",
       "      <td>13.573204</td>\n",
       "    </tr>\n",
       "    <tr>\n",
       "      <th>103167205</th>\n",
       "      <td>4.0</td>\n",
       "      <td>81.0</td>\n",
       "      <td>82.0</td>\n",
       "      <td>3.0</td>\n",
       "      <td>30.0</td>\n",
       "      <td>2.056650</td>\n",
       "    </tr>\n",
       "    <tr>\n",
       "      <th>103168884</th>\n",
       "      <td>6.0</td>\n",
       "      <td>70.0</td>\n",
       "      <td>83.0</td>\n",
       "      <td>0.0</td>\n",
       "      <td>30.0</td>\n",
       "      <td>2.669202</td>\n",
       "    </tr>\n",
       "  </tbody>\n",
       "</table>\n",
       "</div>"
      ],
      "text/plain": [
       "           frequency_cal  recency_cal  T_cal  frequency_holdout  \\\n",
       "id                                                                \n",
       "103121713           12.0         23.0   25.0               15.0   \n",
       "103122875           35.0         86.0   88.0               12.0   \n",
       "103128329           12.0         78.0   85.0                0.0   \n",
       "103130069           41.0         81.0   89.0                0.0   \n",
       "103132791           10.0         78.0   86.0                0.0   \n",
       "103133367           14.0         82.0   82.0                5.0   \n",
       "103134281           14.0         83.0   84.0                2.0   \n",
       "103135918            3.0         70.0   71.0                1.0   \n",
       "103139881           34.0         87.0   87.0               14.0   \n",
       "103145245           14.0         85.0   86.0                7.0   \n",
       "103147121           16.0         77.0   78.0               10.0   \n",
       "103149842           11.0         84.0   84.0                3.0   \n",
       "103152383           13.0         80.0   82.0                8.0   \n",
       "103157696            7.0         56.0   78.0                0.0   \n",
       "103158476            4.0         56.0   88.0                4.0   \n",
       "103158552           18.0         84.0   87.0                5.0   \n",
       "103161690           31.0         87.0   89.0                9.0   \n",
       "103161963           43.0         87.0   89.0               21.0   \n",
       "103167205            4.0         81.0   82.0                3.0   \n",
       "103168884            6.0         70.0   83.0                0.0   \n",
       "\n",
       "           duration_holdout       pred  \n",
       "id                                      \n",
       "103121713              30.0  11.885918  \n",
       "103122875              30.0  11.294072  \n",
       "103128329              30.0   4.482987  \n",
       "103130069              30.0  12.958186  \n",
       "103132791              30.0   3.820500  \n",
       "103133367              30.0   5.271133  \n",
       "103134281              30.0   5.160447  \n",
       "103135918              30.0   1.966786  \n",
       "103139881              30.0  11.104441  \n",
       "103145245              30.0   5.054423  \n",
       "103147121              30.0   6.178593  \n",
       "103149842              30.0   4.216540  \n",
       "103152383              30.0   4.949474  \n",
       "103157696              30.0   3.146321  \n",
       "103158476              30.0   1.922825  \n",
       "103158552              30.0   6.222921  \n",
       "103161690              30.0   9.985670  \n",
       "103161963              30.0  13.573204  \n",
       "103167205              30.0   2.056650  \n",
       "103168884              30.0   2.669202  "
      ]
     },
     "execution_count": 32,
     "metadata": {},
     "output_type": "execute_result"
    }
   ],
   "source": [
    "summary_calib_holdout.head(20)"
   ]
  },
  {
   "cell_type": "code",
   "execution_count": 16,
   "id": "cee91fed",
   "metadata": {
    "scrolled": true
   },
   "outputs": [
    {
     "data": {
      "text/plain": [
       "<AxesSubplot:xlabel='pred', ylabel='frequency_holdout'>"
      ]
     },
     "execution_count": 16,
     "metadata": {},
     "output_type": "execute_result"
    },
    {
     "data": {
      "image/png": "[encoded data removed]",
      "text/plain": [
       "<Figure size 432x288 with 1 Axes>"
      ]
     },
     "metadata": {
      "needs_background": "light"
     },
     "output_type": "display_data"
    }
   ],
   "source": [
    "summary_calib_holdout[['frequency_holdout', 'pred']].plot(kind='scatter', x='pred', y='frequency_holdout')"
   ]
  },
  {
   "cell_type": "markdown",
   "id": "0c0cf810",
   "metadata": {},
   "source": [
    "## ML\n",
    "- BG/NBDモデルと条件を揃えるのが難しい\n",
    "- とりあえず1-2月のRFを使って3月のFを予測するモデルを作って、2-3月のデータから4月のFを予測する\n",
    "- MLは2ヶ月分しかデータを使ってないのでBG/NBDよりも不利"
   ]
  },
  {
   "cell_type": "code",
   "execution_count": 17,
   "id": "bfa58627",
   "metadata": {},
   "outputs": [],
   "source": [
    "train = calibration_and_holdout_data(df, 'id', 'date',\n",
    "                                                   calibration_period_end='2013-02-28',\n",
    "                                                   observation_period_end='2013-03-31',\n",
    "                                                   freq='D')"
   ]
  },
  {
   "cell_type": "code",
   "execution_count": 18,
   "id": "277b12f7",
   "metadata": {},
   "outputs": [],
   "source": [
    "test = calibration_and_holdout_data(df[df['date']>='2013-02-01'], 'id', 'date',\n",
    "                                                   calibration_period_end='2013-03-31',\n",
    "                                                   observation_period_end='2013-04-30',\n",
    "                                                   freq='D')"
   ]
  },
  {
   "cell_type": "code",
   "execution_count": 19,
   "id": "a7e0d79e",
   "metadata": {},
   "outputs": [],
   "source": [
    "train = train[train['frequency_cal'] != 0].copy()\n",
    "test = test[test['frequency_cal'] != 0].copy()"
   ]
  },
  {
   "cell_type": "code",
   "execution_count": 20,
   "id": "52eedcf5",
   "metadata": {},
   "outputs": [],
   "source": [
    "train['remain_day'] = train['T_cal'] - train['recency_cal']\n",
    "test['remain_day'] = test['T_cal'] - test['recency_cal']"
   ]
  },
  {
   "cell_type": "code",
   "execution_count": 21,
   "id": "136a6adb",
   "metadata": {},
   "outputs": [],
   "source": [
    "from sklearn.linear_model import Ridge"
   ]
  },
  {
   "cell_type": "code",
   "execution_count": 22,
   "id": "197fa084",
   "metadata": {},
   "outputs": [],
   "source": [
    "model = Ridge()"
   ]
  },
  {
   "cell_type": "code",
   "execution_count": 23,
   "id": "c3a27b7e",
   "metadata": {},
   "outputs": [
    {
     "data": {
      "text/html": [
       "<style>#sk-container-id-1 {color: black;background-color: white;}#sk-container-id-1 pre{padding: 0;}#sk-container-id-1 div.sk-toggleable {background-color: white;}#sk-container-id-1 label.sk-toggleable__label {cursor: pointer;display: block;width: 100%;margin-bottom: 0;padding: 0.3em;box-sizing: border-box;text-align: center;}#sk-container-id-1 label.sk-toggleable__label-arrow:before {content: \"▸\";float: left;margin-right: 0.25em;color: #696969;}#sk-container-id-1 label.sk-toggleable__label-arrow:hover:before {color: black;}#sk-container-id-1 div.sk-estimator:hover label.sk-toggleable__label-arrow:before {color: black;}#sk-container-id-1 div.sk-toggleable__content {max-height: 0;max-width: 0;overflow: hidden;text-align: left;background-color: #f0f8ff;}#sk-container-id-1 div.sk-toggleable__content pre {margin: 0.2em;color: black;border-radius: 0.25em;background-color: #f0f8ff;}#sk-container-id-1 input.sk-toggleable__control:checked~div.sk-toggleable__content {max-height: 200px;max-width: 100%;overflow: auto;}#sk-container-id-1 input.sk-toggleable__control:checked~label.sk-toggleable__label-arrow:before {content: \"▾\";}#sk-container-id-1 div.sk-estimator input.sk-toggleable__control:checked~label.sk-toggleable__label {background-color: #d4ebff;}#sk-container-id-1 div.sk-label input.sk-toggleable__control:checked~label.sk-toggleable__label {background-color: #d4ebff;}#sk-container-id-1 input.sk-hidden--visually {border: 0;clip: rect(1px 1px 1px 1px);clip: rect(1px, 1px, 1px, 1px);height: 1px;margin: -1px;overflow: hidden;padding: 0;position: absolute;width: 1px;}#sk-container-id-1 div.sk-estimator {font-family: monospace;background-color: #f0f8ff;border: 1px dotted black;border-radius: 0.25em;box-sizing: border-box;margin-bottom: 0.5em;}#sk-container-id-1 div.sk-estimator:hover {background-color: #d4ebff;}#sk-container-id-1 div.sk-parallel-item::after {content: \"\";width: 100%;border-bottom: 1px solid gray;flex-grow: 1;}#sk-container-id-1 div.sk-label:hover label.sk-toggleable__label {background-color: #d4ebff;}#sk-container-id-1 div.sk-serial::before {content: \"\";position: absolute;border-left: 1px solid gray;box-sizing: border-box;top: 0;bottom: 0;left: 50%;z-index: 0;}#sk-container-id-1 div.sk-serial {display: flex;flex-direction: column;align-items: center;background-color: white;padding-right: 0.2em;padding-left: 0.2em;position: relative;}#sk-container-id-1 div.sk-item {position: relative;z-index: 1;}#sk-container-id-1 div.sk-parallel {display: flex;align-items: stretch;justify-content: center;background-color: white;position: relative;}#sk-container-id-1 div.sk-item::before, #sk-container-id-1 div.sk-parallel-item::before {content: \"\";position: absolute;border-left: 1px solid gray;box-sizing: border-box;top: 0;bottom: 0;left: 50%;z-index: -1;}#sk-container-id-1 div.sk-parallel-item {display: flex;flex-direction: column;z-index: 1;position: relative;background-color: white;}#sk-container-id-1 div.sk-parallel-item:first-child::after {align-self: flex-end;width: 50%;}#sk-container-id-1 div.sk-parallel-item:last-child::after {align-self: flex-start;width: 50%;}#sk-container-id-1 div.sk-parallel-item:only-child::after {width: 0;}#sk-container-id-1 div.sk-dashed-wrapped {border: 1px dashed gray;margin: 0 0.4em 0.5em 0.4em;box-sizing: border-box;padding-bottom: 0.4em;background-color: white;}#sk-container-id-1 div.sk-label label {font-family: monospace;font-weight: bold;display: inline-block;line-height: 1.2em;}#sk-container-id-1 div.sk-label-container {text-align: center;}#sk-container-id-1 div.sk-container {/* jupyter's `normalize.less` sets `[hidden] { display: none; }` but bootstrap.min.css set `[hidden] { display: none !important; }` so we also need the `!important` here to be able to override the default hidden behavior on the sphinx rendered scikit-learn.org. See: https://github.com/scikit-learn/scikit-learn/issues/21755 */display: inline-block !important;position: relative;}#sk-container-id-1 div.sk-text-repr-fallback {display: none;}</style><div id=\"sk-container-id-1\" class=\"sk-top-container\"><div class=\"sk-text-repr-fallback\"><pre>Ridge()</pre><b>In a Jupyter environment, please rerun this cell to show the HTML representation or trust the notebook. <br />On GitHub, the HTML representation is unable to render, please try loading this page with nbviewer.org.</b></div><div class=\"sk-container\" hidden><div class=\"sk-item\"><div class=\"sk-estimator sk-toggleable\"><input class=\"sk-toggleable__control sk-hidden--visually\" id=\"sk-estimator-id-1\" type=\"checkbox\" checked><label for=\"sk-estimator-id-1\" class=\"sk-toggleable__label sk-toggleable__label-arrow\">Ridge</label><div class=\"sk-toggleable__content\"><pre>Ridge()</pre></div></div></div></div></div>"
      ],
      "text/plain": [
       "Ridge()"
      ]
     },
     "execution_count": 23,
     "metadata": {},
     "output_type": "execute_result"
    }
   ],
   "source": [
    "model.fit(train[['frequency_cal','remain_day']], train['frequency_holdout'])"
   ]
  },
  {
   "cell_type": "code",
   "execution_count": 24,
   "id": "99eadd32",
   "metadata": {},
   "outputs": [
    {
     "data": {
      "text/plain": [
       "array([0.43060294, 0.01296463])"
      ]
     },
     "execution_count": 24,
     "metadata": {},
     "output_type": "execute_result"
    }
   ],
   "source": [
    "model.coef_"
   ]
  },
  {
   "cell_type": "code",
   "execution_count": 25,
   "id": "3a3ed3d7",
   "metadata": {},
   "outputs": [],
   "source": [
    "test['pred'] = model.predict(test[['frequency_cal','remain_day']])"
   ]
  },
  {
   "cell_type": "code",
   "execution_count": 27,
   "id": "49fecff8",
   "metadata": {},
   "outputs": [
    {
     "data": {
      "text/plain": [
       "17.876815737790533"
      ]
     },
     "execution_count": 27,
     "metadata": {},
     "output_type": "execute_result"
    }
   ],
   "source": [
    "mean_squared_error(test['frequency_holdout'], test['pred'])"
   ]
  },
  {
   "cell_type": "code",
   "execution_count": 28,
   "id": "1bf44fca",
   "metadata": {},
   "outputs": [
    {
     "data": {
      "text/plain": [
       "<AxesSubplot:xlabel='pred', ylabel='frequency_holdout'>"
      ]
     },
     "execution_count": 28,
     "metadata": {},
     "output_type": "execute_result"
    },
    {
     "data": {
      "image/png": "[encoded data removed]",
      "text/plain": [
       "<Figure size 432x288 with 1 Axes>"
      ]
     },
     "metadata": {
      "needs_background": "light"
     },
     "output_type": "display_data"
    }
   ],
   "source": [
    "test[['frequency_holdout', 'pred']].plot(kind='scatter', x='pred', y='frequency_holdout')"
   ]
  },
  {
   "cell_type": "code",
   "execution_count": 31,
   "id": "53fcccd0",
   "metadata": {},
   "outputs": [
    {
     "data": {
      "text/html": [
       "<div>\n",
       "<style scoped>\n",
       "    .dataframe tbody tr th:only-of-type {\n",
       "        vertical-align: middle;\n",
       "    }\n",
       "\n",
       "    .dataframe tbody tr th {\n",
       "        vertical-align: top;\n",
       "    }\n",
       "\n",
       "    .dataframe thead th {\n",
       "        text-align: right;\n",
       "    }\n",
       "</style>\n",
       "<table border=\"1\" class=\"dataframe\">\n",
       "  <thead>\n",
       "    <tr style=\"text-align: right;\">\n",
       "      <th></th>\n",
       "      <th>frequency_cal</th>\n",
       "      <th>recency_cal</th>\n",
       "      <th>T_cal</th>\n",
       "      <th>frequency_holdout</th>\n",
       "      <th>duration_holdout</th>\n",
       "      <th>remain_day</th>\n",
       "      <th>pred</th>\n",
       "    </tr>\n",
       "    <tr>\n",
       "      <th>id</th>\n",
       "      <th></th>\n",
       "      <th></th>\n",
       "      <th></th>\n",
       "      <th></th>\n",
       "      <th></th>\n",
       "      <th></th>\n",
       "      <th></th>\n",
       "    </tr>\n",
       "  </thead>\n",
       "  <tbody>\n",
       "    <tr>\n",
       "      <th>103121713</th>\n",
       "      <td>12.0</td>\n",
       "      <td>23.0</td>\n",
       "      <td>25.0</td>\n",
       "      <td>15.0</td>\n",
       "      <td>30.0</td>\n",
       "      <td>2.0</td>\n",
       "      <td>6.078488</td>\n",
       "    </tr>\n",
       "    <tr>\n",
       "      <th>103122875</th>\n",
       "      <td>20.0</td>\n",
       "      <td>55.0</td>\n",
       "      <td>57.0</td>\n",
       "      <td>12.0</td>\n",
       "      <td>30.0</td>\n",
       "      <td>2.0</td>\n",
       "      <td>9.523311</td>\n",
       "    </tr>\n",
       "    <tr>\n",
       "      <th>103128329</th>\n",
       "      <td>7.0</td>\n",
       "      <td>46.0</td>\n",
       "      <td>53.0</td>\n",
       "      <td>0.0</td>\n",
       "      <td>30.0</td>\n",
       "      <td>7.0</td>\n",
       "      <td>3.990296</td>\n",
       "    </tr>\n",
       "    <tr>\n",
       "      <th>103130069</th>\n",
       "      <td>25.0</td>\n",
       "      <td>50.0</td>\n",
       "      <td>58.0</td>\n",
       "      <td>0.0</td>\n",
       "      <td>30.0</td>\n",
       "      <td>8.0</td>\n",
       "      <td>11.754114</td>\n",
       "    </tr>\n",
       "    <tr>\n",
       "      <th>103132791</th>\n",
       "      <td>7.0</td>\n",
       "      <td>41.0</td>\n",
       "      <td>49.0</td>\n",
       "      <td>0.0</td>\n",
       "      <td>30.0</td>\n",
       "      <td>8.0</td>\n",
       "      <td>4.003261</td>\n",
       "    </tr>\n",
       "    <tr>\n",
       "      <th>103133367</th>\n",
       "      <td>8.0</td>\n",
       "      <td>42.0</td>\n",
       "      <td>42.0</td>\n",
       "      <td>5.0</td>\n",
       "      <td>30.0</td>\n",
       "      <td>0.0</td>\n",
       "      <td>4.330147</td>\n",
       "    </tr>\n",
       "    <tr>\n",
       "      <th>103134281</th>\n",
       "      <td>11.0</td>\n",
       "      <td>56.0</td>\n",
       "      <td>57.0</td>\n",
       "      <td>2.0</td>\n",
       "      <td>30.0</td>\n",
       "      <td>1.0</td>\n",
       "      <td>5.634920</td>\n",
       "    </tr>\n",
       "    <tr>\n",
       "      <th>103135918</th>\n",
       "      <td>1.0</td>\n",
       "      <td>56.0</td>\n",
       "      <td>57.0</td>\n",
       "      <td>1.0</td>\n",
       "      <td>30.0</td>\n",
       "      <td>1.0</td>\n",
       "      <td>1.328891</td>\n",
       "    </tr>\n",
       "    <tr>\n",
       "      <th>103139881</th>\n",
       "      <td>25.0</td>\n",
       "      <td>58.0</td>\n",
       "      <td>58.0</td>\n",
       "      <td>14.0</td>\n",
       "      <td>30.0</td>\n",
       "      <td>0.0</td>\n",
       "      <td>11.650397</td>\n",
       "    </tr>\n",
       "    <tr>\n",
       "      <th>103145245</th>\n",
       "      <td>10.0</td>\n",
       "      <td>56.0</td>\n",
       "      <td>57.0</td>\n",
       "      <td>7.0</td>\n",
       "      <td>30.0</td>\n",
       "      <td>1.0</td>\n",
       "      <td>5.204317</td>\n",
       "    </tr>\n",
       "    <tr>\n",
       "      <th>103147121</th>\n",
       "      <td>12.0</td>\n",
       "      <td>54.0</td>\n",
       "      <td>55.0</td>\n",
       "      <td>10.0</td>\n",
       "      <td>30.0</td>\n",
       "      <td>1.0</td>\n",
       "      <td>6.065523</td>\n",
       "    </tr>\n",
       "    <tr>\n",
       "      <th>103149842</th>\n",
       "      <td>7.0</td>\n",
       "      <td>57.0</td>\n",
       "      <td>57.0</td>\n",
       "      <td>3.0</td>\n",
       "      <td>30.0</td>\n",
       "      <td>0.0</td>\n",
       "      <td>3.899544</td>\n",
       "    </tr>\n",
       "    <tr>\n",
       "      <th>103152383</th>\n",
       "      <td>8.0</td>\n",
       "      <td>52.0</td>\n",
       "      <td>54.0</td>\n",
       "      <td>8.0</td>\n",
       "      <td>30.0</td>\n",
       "      <td>2.0</td>\n",
       "      <td>4.356076</td>\n",
       "    </tr>\n",
       "    <tr>\n",
       "      <th>103157696</th>\n",
       "      <td>3.0</td>\n",
       "      <td>26.0</td>\n",
       "      <td>48.0</td>\n",
       "      <td>0.0</td>\n",
       "      <td>30.0</td>\n",
       "      <td>22.0</td>\n",
       "      <td>2.462354</td>\n",
       "    </tr>\n",
       "    <tr>\n",
       "      <th>103158552</th>\n",
       "      <td>11.0</td>\n",
       "      <td>54.0</td>\n",
       "      <td>57.0</td>\n",
       "      <td>5.0</td>\n",
       "      <td>30.0</td>\n",
       "      <td>3.0</td>\n",
       "      <td>5.660849</td>\n",
       "    </tr>\n",
       "    <tr>\n",
       "      <th>103161690</th>\n",
       "      <td>22.0</td>\n",
       "      <td>54.0</td>\n",
       "      <td>56.0</td>\n",
       "      <td>9.0</td>\n",
       "      <td>30.0</td>\n",
       "      <td>2.0</td>\n",
       "      <td>10.384517</td>\n",
       "    </tr>\n",
       "    <tr>\n",
       "      <th>103161963</th>\n",
       "      <td>24.0</td>\n",
       "      <td>56.0</td>\n",
       "      <td>58.0</td>\n",
       "      <td>21.0</td>\n",
       "      <td>30.0</td>\n",
       "      <td>2.0</td>\n",
       "      <td>11.245723</td>\n",
       "    </tr>\n",
       "    <tr>\n",
       "      <th>103167205</th>\n",
       "      <td>3.0</td>\n",
       "      <td>54.0</td>\n",
       "      <td>55.0</td>\n",
       "      <td>3.0</td>\n",
       "      <td>30.0</td>\n",
       "      <td>1.0</td>\n",
       "      <td>2.190097</td>\n",
       "    </tr>\n",
       "    <tr>\n",
       "      <th>103168884</th>\n",
       "      <td>3.0</td>\n",
       "      <td>24.0</td>\n",
       "      <td>37.0</td>\n",
       "      <td>0.0</td>\n",
       "      <td>30.0</td>\n",
       "      <td>13.0</td>\n",
       "      <td>2.345672</td>\n",
       "    </tr>\n",
       "    <tr>\n",
       "      <th>103178304</th>\n",
       "      <td>15.0</td>\n",
       "      <td>55.0</td>\n",
       "      <td>57.0</td>\n",
       "      <td>8.0</td>\n",
       "      <td>30.0</td>\n",
       "      <td>2.0</td>\n",
       "      <td>7.370296</td>\n",
       "    </tr>\n",
       "  </tbody>\n",
       "</table>\n",
       "</div>"
      ],
      "text/plain": [
       "           frequency_cal  recency_cal  T_cal  frequency_holdout  \\\n",
       "id                                                                \n",
       "103121713           12.0         23.0   25.0               15.0   \n",
       "103122875           20.0         55.0   57.0               12.0   \n",
       "103128329            7.0         46.0   53.0                0.0   \n",
       "103130069           25.0         50.0   58.0                0.0   \n",
       "103132791            7.0         41.0   49.0                0.0   \n",
       "103133367            8.0         42.0   42.0                5.0   \n",
       "103134281           11.0         56.0   57.0                2.0   \n",
       "103135918            1.0         56.0   57.0                1.0   \n",
       "103139881           25.0         58.0   58.0               14.0   \n",
       "103145245           10.0         56.0   57.0                7.0   \n",
       "103147121           12.0         54.0   55.0               10.0   \n",
       "103149842            7.0         57.0   57.0                3.0   \n",
       "103152383            8.0         52.0   54.0                8.0   \n",
       "103157696            3.0         26.0   48.0                0.0   \n",
       "103158552           11.0         54.0   57.0                5.0   \n",
       "103161690           22.0         54.0   56.0                9.0   \n",
       "103161963           24.0         56.0   58.0               21.0   \n",
       "103167205            3.0         54.0   55.0                3.0   \n",
       "103168884            3.0         24.0   37.0                0.0   \n",
       "103178304           15.0         55.0   57.0                8.0   \n",
       "\n",
       "           duration_holdout  remain_day       pred  \n",
       "id                                                  \n",
       "103121713              30.0         2.0   6.078488  \n",
       "103122875              30.0         2.0   9.523311  \n",
       "103128329              30.0         7.0   3.990296  \n",
       "103130069              30.0         8.0  11.754114  \n",
       "103132791              30.0         8.0   4.003261  \n",
       "103133367              30.0         0.0   4.330147  \n",
       "103134281              30.0         1.0   5.634920  \n",
       "103135918              30.0         1.0   1.328891  \n",
       "103139881              30.0         0.0  11.650397  \n",
       "103145245              30.0         1.0   5.204317  \n",
       "103147121              30.0         1.0   6.065523  \n",
       "103149842              30.0         0.0   3.899544  \n",
       "103152383              30.0         2.0   4.356076  \n",
       "103157696              30.0        22.0   2.462354  \n",
       "103158552              30.0         3.0   5.660849  \n",
       "103161690              30.0         2.0  10.384517  \n",
       "103161963              30.0         2.0  11.245723  \n",
       "103167205              30.0         1.0   2.190097  \n",
       "103168884              30.0        13.0   2.345672  \n",
       "103178304              30.0         2.0   7.370296  "
      ]
     },
     "execution_count": 31,
     "metadata": {},
     "output_type": "execute_result"
    }
   ],
   "source": [
    "test.head(20)"
   ]
  },
  {
   "cell_type": "markdown",
   "id": "2775ee8a",
   "metadata": {},
   "source": [
    "# まとめ\n",
    "- MSEの結果としては利用しているデータの少ないML(しかもリッジ回帰)が勝ってしまった"
   ]
  }
 ],
 "metadata": {
  "kernelspec": {
   "display_name": "Python 3 (ipykernel)",
   "language": "python",
   "name": "python3"
  },
  "language_info": {
   "codemirror_mode": {
    "name": "ipython",
    "version": 3
   },
   "file_extension": ".py",
   "mimetype": "text/x-python",
   "name": "python",
   "nbconvert_exporter": "python",
   "pygments_lexer": "ipython3",
   "version": "3.9.11"
  }
 },
 "nbformat": 4,
 "nbformat_minor": 5
}
